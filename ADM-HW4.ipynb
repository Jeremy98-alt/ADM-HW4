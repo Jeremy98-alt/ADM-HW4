{
 "cells": [
  {
   "cell_type": "code",
   "execution_count": 1,
   "metadata": {},
   "outputs": [],
   "source": [
    "from collections import defaultdict\n",
    "\n",
    "#compute alpha \n",
    "import scipy.integrate as integrate\n",
    "import scipy.special as special\n",
    "import numpy as np\n",
    "import math"
   ]
  },
  {
   "cell_type": "code",
   "execution_count": 2,
   "metadata": {},
   "outputs": [],
   "source": [
    "#hasing Funciton:\n",
    "n =2**32\n",
    "\n",
    "#HyperLogLog\n",
    "b=11\n",
    "m= 2**b"
   ]
  },
  {
   "cell_type": "code",
   "execution_count": null,
   "metadata": {},
   "outputs": [],
   "source": [
    "with open('/Users/paolaantonicoli/Downloads/hash.txt') as f:\n",
    "    for line in f:\n",
    "        Registers(f.readline().strip())\n",
    "        \n",
    "        \n",
    "save_dict(M,'HyperLogLogDict')"
   ]
  },
  {
   "cell_type": "code",
   "execution_count": 8,
   "metadata": {},
   "outputs": [],
   "source": [
    "#saving dict function\n",
    "def save_dict(obj, name ):\n",
    "    with open(name + '.pkl', 'wb') as f:\n",
    "        pickle.dump(obj, f, pickle.HIGHEST_PROTOCOL)\n",
    "\n",
    "#load dict function\n",
    "def load_obj(name ):\n",
    "    with open(name + '.pkl', 'rb') as f:\n",
    "        return pickle.load(f)"
   ]
  },
  {
   "cell_type": "markdown",
   "metadata": {},
   "source": [
    "# Hash Function"
   ]
  },
  {
   "cell_type": "code",
   "execution_count": 9,
   "metadata": {},
   "outputs": [],
   "source": [
    "def HashingPaola(x):    \n",
    "    decimal = int(x,16)\n",
    "    x = np.array([int(i) for i in list(str(decimal))])\n",
    "    coeff = np.random.randint(0, high = n, size = len(x))\n",
    "    x = format(np.dot(x, coeff) % n, '032b') #65537 first prime number high than n..\n",
    "    return x"
   ]
  },
  {
   "cell_type": "markdown",
   "metadata": {},
   "source": [
    "# HyperLogLog"
   ]
  },
  {
   "cell_type": "code",
   "execution_count": 10,
   "metadata": {},
   "outputs": [],
   "source": [
    "M = defaultdict(lambda :-1)\n",
    "\n",
    "def Registers(v):\n",
    "    x = HashingPaola(v)\n",
    "    j = int(str(x)[:b],2)\n",
    "    if '1' in set(x[b:]):\n",
    "        rho_w = (x[b:]).index('1')+1\n",
    "    else:\n",
    "        rho_w = len(x[b:])\n",
    "    M[j] = max(M[j],rho_w)\n",
    "    "
   ]
  },
  {
   "cell_type": "code",
   "execution_count": null,
   "metadata": {},
   "outputs": [],
   "source": [
    "alpha = (m)*(integrate.quad(lambda u: (math.log((2+u)/(1+u),2))**(m),0,np.infty )[0])\n",
    "\n",
    "def HyperLogLog(M):\n",
    "    Z=(sum(2**-M[j] for j in M.keys()))**(-1)\n",
    "    E = (alpha)**(-1)*(m**2)*Z\n",
    "    return E\n",
    "\n",
    "HyperLogLog(M)"
   ]
  },
  {
   "cell_type": "markdown",
   "metadata": {},
   "source": [
    "# Error"
   ]
  },
  {
   "cell_type": "code",
   "execution_count": null,
   "metadata": {},
   "outputs": [],
   "source": [
    "with open('/Users/paolaantonicoli/Downloads/hash.txt') as f:\n",
    "    uniques = len(set(f.readlines()))\n",
    "    \n",
    "    "
   ]
  },
  {
   "cell_type": "code",
   "execution_count": null,
   "metadata": {},
   "outputs": [],
   "source": [
    "teorical_error = 1.04/np.sqrt(2**11)\n",
    "real_error = (uniques-HyperLogLog(M))/uniques\n",
    "\n",
    "print('the Real error is {} , the Teorical Error is {}'.format(teorical_error, real_error))"
   ]
  },
  {
   "cell_type": "code",
   "execution_count": null,
   "metadata": {},
   "outputs": [],
   "source": []
  }
 ],
 "metadata": {
  "kernelspec": {
   "display_name": "Python 3",
   "language": "python",
   "name": "python3"
  },
  "language_info": {
   "codemirror_mode": {
    "name": "ipython",
    "version": 3
   },
   "file_extension": ".py",
   "mimetype": "text/x-python",
   "name": "python",
   "nbconvert_exporter": "python",
   "pygments_lexer": "ipython3",
   "version": "3.8.3"
  }
 },
 "nbformat": 4,
 "nbformat_minor": 4
}
