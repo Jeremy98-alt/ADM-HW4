{
 "cells": [
  {
   "cell_type": "code",
   "execution_count": 1,
   "metadata": {},
   "outputs": [],
   "source": [
    "from collections import defaultdict\n",
    "\n",
    "#compute alpha \n",
    "import scipy.integrate as integrate\n",
    "import scipy.special as special\n",
    "import numpy as np\n",
    "import math\n",
    "import pickle\n"
   ]
  },
  {
   "cell_type": "code",
   "execution_count": 2,
   "metadata": {},
   "outputs": [],
   "source": [
    "#saving dict function\n",
    "def save_dict(obj, name ):\n",
    "    with open(name + '.pkl', 'wb') as f:\n",
    "        pickle.dump(obj, f, pickle.HIGHEST_PROTOCOL)\n",
    "\n",
    "#load dict function\n",
    "def load_obj(name ):\n",
    "    with open(name + '.pkl', 'rb') as f:\n",
    "        return pickle.load(f)"
   ]
  },
  {
   "cell_type": "markdown",
   "metadata": {},
   "source": [
    "# Hash Function"
   ]
  },
  {
   "cell_type": "code",
   "execution_count": 3,
   "metadata": {},
   "outputs": [],
   "source": [
    "#hasing Funciton:\n",
    "n =2**32\n",
    "p = 4999999937 \n",
    "\n",
    "\n",
    "a = np.random.randint(1, high = p)\n",
    "b = np.random.randint(0, high = p)\n",
    "\n",
    "def HashingPaola(x):\n",
    "    x = int(x,16)\n",
    "    x = format(((a*x+b)%p)% n, '032b') \n",
    "    return x\n"
   ]
  },
  {
   "cell_type": "markdown",
   "metadata": {},
   "source": [
    "# HyperLogLog"
   ]
  },
  {
   "cell_type": "code",
   "execution_count": 4,
   "metadata": {},
   "outputs": [],
   "source": [
    "#HyperLogLog\n",
    "b=6\n",
    "m= 2**b  #64\n",
    "\n",
    "def Registers(v):\n",
    "    x = HashingPaola(v)\n",
    "    j = int(x[:b],2)\n",
    "    try:\n",
    "        rho_w = (x[b:]).index('1')+1\n",
    "    except:\n",
    "        rho_w = len(x[b:])+1\n",
    "\n",
    "    M[j] = max(M[j],rho_w)\n",
    "    "
   ]
  },
  {
   "cell_type": "code",
   "execution_count": 5,
   "metadata": {},
   "outputs": [],
   "source": [
    "def init():\n",
    "    return -1\n",
    "\n",
    "M = defaultdict(init)\n",
    "\n",
    "with open('/Users/paolaantonicoli/Downloads/hash.txt') as f:\n",
    "    for i in range(130*10**6):\n",
    "        Registers(f.readline().strip())\n",
    "\n",
    "save_dict(M, 'M' )\n"
   ]
  },
  {
   "cell_type": "code",
   "execution_count": 6,
   "metadata": {},
   "outputs": [
    {
     "data": {
      "text/plain": [
       "114438353.45577016"
      ]
     },
     "execution_count": 6,
     "metadata": {},
     "output_type": "execute_result"
    }
   ],
   "source": [
    "def HyperLogLog(M):\n",
    "    Z = 1/(sum(2**(-M[j]) for j in M.keys()))\n",
    "    a = integrate.quad(lambda u: (math.log(((2+u)/(1+u)),2))**(m),0,np.infty)[0]\n",
    "    alpha = (m*(a))**(-1)\n",
    "    E = alpha*(m**2)*Z\n",
    "    return E\n",
    "\n",
    "HyperLogLog(M)\n",
    "    "
   ]
  },
  {
   "cell_type": "code",
   "execution_count": null,
   "metadata": {},
   "outputs": [],
   "source": []
  },
  {
   "cell_type": "code",
   "execution_count": null,
   "metadata": {},
   "outputs": [],
   "source": []
  },
  {
   "cell_type": "code",
   "execution_count": null,
   "metadata": {},
   "outputs": [],
   "source": []
  },
  {
   "cell_type": "code",
   "execution_count": null,
   "metadata": {},
   "outputs": [],
   "source": []
  },
  {
   "cell_type": "code",
   "execution_count": null,
   "metadata": {},
   "outputs": [],
   "source": []
  },
  {
   "cell_type": "markdown",
   "metadata": {},
   "source": [
    "# Error"
   ]
  },
  {
   "cell_type": "code",
   "execution_count": null,
   "metadata": {},
   "outputs": [],
   "source": []
  },
  {
   "cell_type": "code",
   "execution_count": null,
   "metadata": {},
   "outputs": [],
   "source": []
  },
  {
   "cell_type": "code",
   "execution_count": null,
   "metadata": {},
   "outputs": [],
   "source": []
  },
  {
   "cell_type": "code",
   "execution_count": null,
   "metadata": {},
   "outputs": [],
   "source": []
  },
  {
   "cell_type": "code",
   "execution_count": null,
   "metadata": {},
   "outputs": [],
   "source": []
  }
 ],
 "metadata": {
  "kernelspec": {
   "display_name": "Python 3",
   "language": "python",
   "name": "python3"
  },
  "language_info": {
   "codemirror_mode": {
    "name": "ipython",
    "version": 3
   },
   "file_extension": ".py",
   "mimetype": "text/x-python",
   "name": "python",
   "nbconvert_exporter": "python",
   "pygments_lexer": "ipython3",
   "version": "3.8.3"
  }
 },
 "nbformat": 4,
 "nbformat_minor": 4
}
