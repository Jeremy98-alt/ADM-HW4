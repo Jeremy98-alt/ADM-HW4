{
 "cells": [
  {
   "cell_type": "code",
   "execution_count": 2,
   "metadata": {},
   "outputs": [],
   "source": [
    "import pandas as pd\n",
    "import numpy as np\n",
    "import nltk\n",
    "from nltk.corpus import stopwords\n",
    "from nltk.stem.snowball import PorterStemmer\n",
    "from nltk.tokenize import RegexpTokenizer\n",
    "from langdetect import detect\n",
    "from sklearn.feature_extraction.text import TfidfVectorizer\n",
    "from sklearn.decomposition import TruncatedSVD\n",
    "from sklearn.cluster import KMeans\n",
    "from tqdm import tqdm\n",
    "from matplotlib import pyplot as plt\n",
    "import random\n",
    "import cProfile, pstats, io, string\n",
    "import distance\n",
    "import math"
   ]
  },
  {
   "cell_type": "markdown",
   "metadata": {},
   "source": [
    "# Question 2 - Clustering"
   ]
  },
  {
   "cell_type": "code",
   "execution_count": 3,
   "metadata": {},
   "outputs": [],
   "source": [
    "dt = pd.read_csv('Reviews.csv', sep=\",\", usecols = [i for i in range(1,10)])"
   ]
  },
  {
   "cell_type": "code",
   "execution_count": 4,
   "metadata": {
    "scrolled": true
   },
   "outputs": [
    {
     "data": {
      "text/html": [
       "<div>\n",
       "<style scoped>\n",
       "    .dataframe tbody tr th:only-of-type {\n",
       "        vertical-align: middle;\n",
       "    }\n",
       "\n",
       "    .dataframe tbody tr th {\n",
       "        vertical-align: top;\n",
       "    }\n",
       "\n",
       "    .dataframe thead th {\n",
       "        text-align: right;\n",
       "    }\n",
       "</style>\n",
       "<table border=\"1\" class=\"dataframe\">\n",
       "  <thead>\n",
       "    <tr style=\"text-align: right;\">\n",
       "      <th></th>\n",
       "      <th>ProductId</th>\n",
       "      <th>UserId</th>\n",
       "      <th>ProfileName</th>\n",
       "      <th>HelpfulnessNumerator</th>\n",
       "      <th>HelpfulnessDenominator</th>\n",
       "      <th>Score</th>\n",
       "      <th>Time</th>\n",
       "      <th>Summary</th>\n",
       "      <th>Text</th>\n",
       "    </tr>\n",
       "  </thead>\n",
       "  <tbody>\n",
       "    <tr>\n",
       "      <th>0</th>\n",
       "      <td>B001E4KFG0</td>\n",
       "      <td>A3SGXH7AUHU8GW</td>\n",
       "      <td>delmartian</td>\n",
       "      <td>1</td>\n",
       "      <td>1</td>\n",
       "      <td>5</td>\n",
       "      <td>1303862400</td>\n",
       "      <td>Good Quality Dog Food</td>\n",
       "      <td>I have bought several of the Vitality canned d...</td>\n",
       "    </tr>\n",
       "    <tr>\n",
       "      <th>1</th>\n",
       "      <td>B00813GRG4</td>\n",
       "      <td>A1D87F6ZCVE5NK</td>\n",
       "      <td>dll pa</td>\n",
       "      <td>0</td>\n",
       "      <td>0</td>\n",
       "      <td>1</td>\n",
       "      <td>1346976000</td>\n",
       "      <td>Not as Advertised</td>\n",
       "      <td>Product arrived labeled as Jumbo Salted Peanut...</td>\n",
       "    </tr>\n",
       "    <tr>\n",
       "      <th>2</th>\n",
       "      <td>B000LQOCH0</td>\n",
       "      <td>ABXLMWJIXXAIN</td>\n",
       "      <td>Natalia Corres \"Natalia Corres\"</td>\n",
       "      <td>1</td>\n",
       "      <td>1</td>\n",
       "      <td>4</td>\n",
       "      <td>1219017600</td>\n",
       "      <td>\"Delight\" says it all</td>\n",
       "      <td>This is a confection that has been around a fe...</td>\n",
       "    </tr>\n",
       "    <tr>\n",
       "      <th>3</th>\n",
       "      <td>B000UA0QIQ</td>\n",
       "      <td>A395BORC6FGVXV</td>\n",
       "      <td>Karl</td>\n",
       "      <td>3</td>\n",
       "      <td>3</td>\n",
       "      <td>2</td>\n",
       "      <td>1307923200</td>\n",
       "      <td>Cough Medicine</td>\n",
       "      <td>If you are looking for the secret ingredient i...</td>\n",
       "    </tr>\n",
       "    <tr>\n",
       "      <th>4</th>\n",
       "      <td>B006K2ZZ7K</td>\n",
       "      <td>A1UQRSCLF8GW1T</td>\n",
       "      <td>Michael D. Bigham \"M. Wassir\"</td>\n",
       "      <td>0</td>\n",
       "      <td>0</td>\n",
       "      <td>5</td>\n",
       "      <td>1350777600</td>\n",
       "      <td>Great taffy</td>\n",
       "      <td>Great taffy at a great price.  There was a wid...</td>\n",
       "    </tr>\n",
       "  </tbody>\n",
       "</table>\n",
       "</div>"
      ],
      "text/plain": [
       "    ProductId          UserId                      ProfileName  \\\n",
       "0  B001E4KFG0  A3SGXH7AUHU8GW                       delmartian   \n",
       "1  B00813GRG4  A1D87F6ZCVE5NK                           dll pa   \n",
       "2  B000LQOCH0   ABXLMWJIXXAIN  Natalia Corres \"Natalia Corres\"   \n",
       "3  B000UA0QIQ  A395BORC6FGVXV                             Karl   \n",
       "4  B006K2ZZ7K  A1UQRSCLF8GW1T    Michael D. Bigham \"M. Wassir\"   \n",
       "\n",
       "   HelpfulnessNumerator  HelpfulnessDenominator  Score        Time  \\\n",
       "0                     1                       1      5  1303862400   \n",
       "1                     0                       0      1  1346976000   \n",
       "2                     1                       1      4  1219017600   \n",
       "3                     3                       3      2  1307923200   \n",
       "4                     0                       0      5  1350777600   \n",
       "\n",
       "                 Summary                                               Text  \n",
       "0  Good Quality Dog Food  I have bought several of the Vitality canned d...  \n",
       "1      Not as Advertised  Product arrived labeled as Jumbo Salted Peanut...  \n",
       "2  \"Delight\" says it all  This is a confection that has been around a fe...  \n",
       "3         Cough Medicine  If you are looking for the secret ingredient i...  \n",
       "4            Great taffy  Great taffy at a great price.  There was a wid...  "
      ]
     },
     "execution_count": 4,
     "metadata": {},
     "output_type": "execute_result"
    }
   ],
   "source": [
    "dt.head()"
   ]
  },
  {
   "cell_type": "code",
   "execution_count": 5,
   "metadata": {},
   "outputs": [
    {
     "data": {
      "text/html": [
       "<div>\n",
       "<style scoped>\n",
       "    .dataframe tbody tr th:only-of-type {\n",
       "        vertical-align: middle;\n",
       "    }\n",
       "\n",
       "    .dataframe tbody tr th {\n",
       "        vertical-align: top;\n",
       "    }\n",
       "\n",
       "    .dataframe thead th {\n",
       "        text-align: right;\n",
       "    }\n",
       "</style>\n",
       "<table border=\"1\" class=\"dataframe\">\n",
       "  <thead>\n",
       "    <tr style=\"text-align: right;\">\n",
       "      <th></th>\n",
       "      <th>HelpfulnessNumerator</th>\n",
       "      <th>HelpfulnessDenominator</th>\n",
       "      <th>Score</th>\n",
       "      <th>Time</th>\n",
       "    </tr>\n",
       "  </thead>\n",
       "  <tbody>\n",
       "    <tr>\n",
       "      <th>count</th>\n",
       "      <td>568454.000000</td>\n",
       "      <td>568454.00000</td>\n",
       "      <td>568454.000000</td>\n",
       "      <td>5.684540e+05</td>\n",
       "    </tr>\n",
       "    <tr>\n",
       "      <th>mean</th>\n",
       "      <td>1.743817</td>\n",
       "      <td>2.22881</td>\n",
       "      <td>4.183199</td>\n",
       "      <td>1.296257e+09</td>\n",
       "    </tr>\n",
       "    <tr>\n",
       "      <th>std</th>\n",
       "      <td>7.636513</td>\n",
       "      <td>8.28974</td>\n",
       "      <td>1.310436</td>\n",
       "      <td>4.804331e+07</td>\n",
       "    </tr>\n",
       "    <tr>\n",
       "      <th>min</th>\n",
       "      <td>0.000000</td>\n",
       "      <td>0.00000</td>\n",
       "      <td>1.000000</td>\n",
       "      <td>9.393408e+08</td>\n",
       "    </tr>\n",
       "    <tr>\n",
       "      <th>25%</th>\n",
       "      <td>0.000000</td>\n",
       "      <td>0.00000</td>\n",
       "      <td>4.000000</td>\n",
       "      <td>1.271290e+09</td>\n",
       "    </tr>\n",
       "    <tr>\n",
       "      <th>50%</th>\n",
       "      <td>0.000000</td>\n",
       "      <td>1.00000</td>\n",
       "      <td>5.000000</td>\n",
       "      <td>1.311120e+09</td>\n",
       "    </tr>\n",
       "    <tr>\n",
       "      <th>75%</th>\n",
       "      <td>2.000000</td>\n",
       "      <td>2.00000</td>\n",
       "      <td>5.000000</td>\n",
       "      <td>1.332720e+09</td>\n",
       "    </tr>\n",
       "    <tr>\n",
       "      <th>max</th>\n",
       "      <td>866.000000</td>\n",
       "      <td>923.00000</td>\n",
       "      <td>5.000000</td>\n",
       "      <td>1.351210e+09</td>\n",
       "    </tr>\n",
       "  </tbody>\n",
       "</table>\n",
       "</div>"
      ],
      "text/plain": [
       "       HelpfulnessNumerator  HelpfulnessDenominator          Score  \\\n",
       "count         568454.000000            568454.00000  568454.000000   \n",
       "mean               1.743817                 2.22881       4.183199   \n",
       "std                7.636513                 8.28974       1.310436   \n",
       "min                0.000000                 0.00000       1.000000   \n",
       "25%                0.000000                 0.00000       4.000000   \n",
       "50%                0.000000                 1.00000       5.000000   \n",
       "75%                2.000000                 2.00000       5.000000   \n",
       "max              866.000000               923.00000       5.000000   \n",
       "\n",
       "               Time  \n",
       "count  5.684540e+05  \n",
       "mean   1.296257e+09  \n",
       "std    4.804331e+07  \n",
       "min    9.393408e+08  \n",
       "25%    1.271290e+09  \n",
       "50%    1.311120e+09  \n",
       "75%    1.332720e+09  \n",
       "max    1.351210e+09  "
      ]
     },
     "execution_count": 5,
     "metadata": {},
     "output_type": "execute_result"
    }
   ],
   "source": [
    "dt.describe()"
   ]
  },
  {
   "cell_type": "markdown",
   "metadata": {},
   "source": [
    "## Clean up data"
   ]
  },
  {
   "cell_type": "code",
   "execution_count": 6,
   "metadata": {},
   "outputs": [],
   "source": [
    "dt = dt.drop_duplicates(subset=[\"UserId\",\"ProfileName\",\"Time\",\"Text\"], keep='first', inplace=False)\n",
    "dt = dt[dt[\"HelpfulnessNumerator\"] <= dt[\"HelpfulnessDenominator\"]] # remove the numerator greater than denominator"
   ]
  },
  {
   "cell_type": "code",
   "execution_count": 7,
   "metadata": {},
   "outputs": [
    {
     "data": {
      "text/html": [
       "<div>\n",
       "<style scoped>\n",
       "    .dataframe tbody tr th:only-of-type {\n",
       "        vertical-align: middle;\n",
       "    }\n",
       "\n",
       "    .dataframe tbody tr th {\n",
       "        vertical-align: top;\n",
       "    }\n",
       "\n",
       "    .dataframe thead th {\n",
       "        text-align: right;\n",
       "    }\n",
       "</style>\n",
       "<table border=\"1\" class=\"dataframe\">\n",
       "  <thead>\n",
       "    <tr style=\"text-align: right;\">\n",
       "      <th></th>\n",
       "      <th>HelpfulnessNumerator</th>\n",
       "      <th>HelpfulnessDenominator</th>\n",
       "      <th>Score</th>\n",
       "      <th>Time</th>\n",
       "    </tr>\n",
       "  </thead>\n",
       "  <tbody>\n",
       "    <tr>\n",
       "      <th>count</th>\n",
       "      <td>393931.000000</td>\n",
       "      <td>393931.000000</td>\n",
       "      <td>393931.000000</td>\n",
       "      <td>3.939310e+05</td>\n",
       "    </tr>\n",
       "    <tr>\n",
       "      <th>mean</th>\n",
       "      <td>1.734393</td>\n",
       "      <td>2.204805</td>\n",
       "      <td>4.179397</td>\n",
       "      <td>1.296449e+09</td>\n",
       "    </tr>\n",
       "    <tr>\n",
       "      <th>std</th>\n",
       "      <td>6.872280</td>\n",
       "      <td>7.534791</td>\n",
       "      <td>1.311927</td>\n",
       "      <td>4.840344e+07</td>\n",
       "    </tr>\n",
       "    <tr>\n",
       "      <th>min</th>\n",
       "      <td>0.000000</td>\n",
       "      <td>0.000000</td>\n",
       "      <td>1.000000</td>\n",
       "      <td>9.393408e+08</td>\n",
       "    </tr>\n",
       "    <tr>\n",
       "      <th>25%</th>\n",
       "      <td>0.000000</td>\n",
       "      <td>0.000000</td>\n",
       "      <td>4.000000</td>\n",
       "      <td>1.271376e+09</td>\n",
       "    </tr>\n",
       "    <tr>\n",
       "      <th>50%</th>\n",
       "      <td>0.000000</td>\n",
       "      <td>1.000000</td>\n",
       "      <td>5.000000</td>\n",
       "      <td>1.311638e+09</td>\n",
       "    </tr>\n",
       "    <tr>\n",
       "      <th>75%</th>\n",
       "      <td>2.000000</td>\n",
       "      <td>2.000000</td>\n",
       "      <td>5.000000</td>\n",
       "      <td>1.332979e+09</td>\n",
       "    </tr>\n",
       "    <tr>\n",
       "      <th>max</th>\n",
       "      <td>866.000000</td>\n",
       "      <td>923.000000</td>\n",
       "      <td>5.000000</td>\n",
       "      <td>1.351210e+09</td>\n",
       "    </tr>\n",
       "  </tbody>\n",
       "</table>\n",
       "</div>"
      ],
      "text/plain": [
       "       HelpfulnessNumerator  HelpfulnessDenominator          Score  \\\n",
       "count         393931.000000           393931.000000  393931.000000   \n",
       "mean               1.734393                2.204805       4.179397   \n",
       "std                6.872280                7.534791       1.311927   \n",
       "min                0.000000                0.000000       1.000000   \n",
       "25%                0.000000                0.000000       4.000000   \n",
       "50%                0.000000                1.000000       5.000000   \n",
       "75%                2.000000                2.000000       5.000000   \n",
       "max              866.000000              923.000000       5.000000   \n",
       "\n",
       "               Time  \n",
       "count  3.939310e+05  \n",
       "mean   1.296449e+09  \n",
       "std    4.840344e+07  \n",
       "min    9.393408e+08  \n",
       "25%    1.271376e+09  \n",
       "50%    1.311638e+09  \n",
       "75%    1.332979e+09  \n",
       "max    1.351210e+09  "
      ]
     },
     "execution_count": 7,
     "metadata": {},
     "output_type": "execute_result"
    }
   ],
   "source": [
    "dt.describe()"
   ]
  },
  {
   "cell_type": "code",
   "execution_count": 8,
   "metadata": {},
   "outputs": [
    {
     "data": {
      "text/plain": [
       "ProductId                  0\n",
       "UserId                     0\n",
       "ProfileName               11\n",
       "HelpfulnessNumerator       0\n",
       "HelpfulnessDenominator     0\n",
       "Score                      0\n",
       "Time                       0\n",
       "Summary                    3\n",
       "Text                       0\n",
       "dtype: int64"
      ]
     },
     "execution_count": 8,
     "metadata": {},
     "output_type": "execute_result"
    }
   ],
   "source": [
    "dt.isnull().sum()"
   ]
  },
  {
   "cell_type": "markdown",
   "metadata": {},
   "source": [
    "There is a very few number of null values. Let's fill them:"
   ]
  },
  {
   "cell_type": "code",
   "execution_count": 9,
   "metadata": {},
   "outputs": [],
   "source": [
    "dt['ProfileName'].fillna('', inplace=True)\n",
    "dt['Summary'].fillna('', inplace=True)"
   ]
  },
  {
   "cell_type": "code",
   "execution_count": 10,
   "metadata": {
    "scrolled": true
   },
   "outputs": [
    {
     "data": {
      "text/plain": [
       "ProductId                 0\n",
       "UserId                    0\n",
       "ProfileName               0\n",
       "HelpfulnessNumerator      0\n",
       "HelpfulnessDenominator    0\n",
       "Score                     0\n",
       "Time                      0\n",
       "Summary                   0\n",
       "Text                      0\n",
       "dtype: int64"
      ]
     },
     "execution_count": 10,
     "metadata": {},
     "output_type": "execute_result"
    }
   ],
   "source": [
    "dt.isnull().sum()"
   ]
  },
  {
   "cell_type": "markdown",
   "metadata": {},
   "source": [
    "## Tokenize the text "
   ]
  },
  {
   "cell_type": "code",
   "execution_count": 11,
   "metadata": {},
   "outputs": [],
   "source": [
    "product_id = []\n",
    "summary = []\n",
    "reviews = []\n",
    "new_df = pd.DataFrame()\n",
    "for product, group in dt.groupby('ProductId'):\n",
    "    product_id.append(product)\n",
    "    reviews.append(\" \".join(list(group['Text'])))\n",
    "    summary.append(\" \".join(list(map(str,group['Summary']))))\n",
    "    \n",
    "new_df['ProductId'] = product_id\n",
    "new_df['reviews'] = reviews"
   ]
  },
  {
   "cell_type": "code",
   "execution_count": 12,
   "metadata": {},
   "outputs": [],
   "source": [
    "def clean_text(text):\n",
    "    stop_words = set(stopwords.words('english')) # obtain the stop words\n",
    "    good_words = [] # save the correct words to consider like tokens\n",
    "    tokenizer = RegexpTokenizer(\"[\\w']+\") # function to recognize the tokens\n",
    "    words = tokenizer.tokenize(text) # tokenize the text \n",
    "    for word in words:\n",
    "        # check if the word is lower and it isn't a stop word or a number\n",
    "        if word.lower() not in stop_words and word.isalpha(): \n",
    "            word = PorterStemmer().stem(word) # use the stemmer function\n",
    "            good_words.append(word.lower()) # insert the good token to lower case\n",
    "        \n",
    "    return good_words"
   ]
  },
  {
   "cell_type": "code",
   "execution_count": 13,
   "metadata": {},
   "outputs": [
    {
     "name": "stdout",
     "output_type": "stream",
     "text": [
      "Wall time: 5min 27s\n"
     ]
    },
    {
     "data": {
      "text/html": [
       "<div>\n",
       "<style scoped>\n",
       "    .dataframe tbody tr th:only-of-type {\n",
       "        vertical-align: middle;\n",
       "    }\n",
       "\n",
       "    .dataframe tbody tr th {\n",
       "        vertical-align: top;\n",
       "    }\n",
       "\n",
       "    .dataframe thead th {\n",
       "        text-align: right;\n",
       "    }\n",
       "</style>\n",
       "<table border=\"1\" class=\"dataframe\">\n",
       "  <thead>\n",
       "    <tr style=\"text-align: right;\">\n",
       "      <th></th>\n",
       "      <th>ProductId</th>\n",
       "      <th>reviews</th>\n",
       "    </tr>\n",
       "  </thead>\n",
       "  <tbody>\n",
       "    <tr>\n",
       "      <th>0</th>\n",
       "      <td>0006641040</td>\n",
       "      <td>[day, person, say, chicken, soup, probabl, go,...</td>\n",
       "    </tr>\n",
       "    <tr>\n",
       "      <th>1</th>\n",
       "      <td>141278509X</td>\n",
       "      <td>[product, archer, farm, best, drink, mix, ever...</td>\n",
       "    </tr>\n",
       "    <tr>\n",
       "      <th>2</th>\n",
       "      <td>2734888454</td>\n",
       "      <td>[dog, love, chicken, product, china, wont, buy...</td>\n",
       "    </tr>\n",
       "    <tr>\n",
       "      <th>3</th>\n",
       "      <td>2841233731</td>\n",
       "      <td>[book, easi, read, ingredi, avail, store, unli...</td>\n",
       "    </tr>\n",
       "    <tr>\n",
       "      <th>4</th>\n",
       "      <td>7800648702</td>\n",
       "      <td>[came, huge, tin, much, bigger, expect, cooki,...</td>\n",
       "    </tr>\n",
       "  </tbody>\n",
       "</table>\n",
       "</div>"
      ],
      "text/plain": [
       "    ProductId                                            reviews\n",
       "0  0006641040  [day, person, say, chicken, soup, probabl, go,...\n",
       "1  141278509X  [product, archer, farm, best, drink, mix, ever...\n",
       "2  2734888454  [dog, love, chicken, product, china, wont, buy...\n",
       "3  2841233731  [book, easi, read, ingredi, avail, store, unli...\n",
       "4  7800648702  [came, huge, tin, much, bigger, expect, cooki,..."
      ]
     },
     "execution_count": 13,
     "metadata": {},
     "output_type": "execute_result"
    }
   ],
   "source": [
    "%%time\n",
    "# use the interest column..\n",
    "new_df[\"reviews\"] = [clean_text(x) for x in list(new_df[\"reviews\"])]\n",
    "new_df.head()"
   ]
  },
  {
   "cell_type": "code",
   "execution_count": 14,
   "metadata": {},
   "outputs": [
    {
     "name": "stdout",
     "output_type": "stream",
     "text": [
      "Wall time: 5.07 s\n"
     ]
    }
   ],
   "source": [
    "%%time\n",
    "\n",
    "tfidf = TfidfVectorizer(preprocessor=lambda x: x, tokenizer=lambda x: x, min_df = 0.01)\n",
    "tfidf_matrix = tfidf.fit_transform(new_df[\"reviews\"])"
   ]
  },
  {
   "cell_type": "code",
   "execution_count": 15,
   "metadata": {},
   "outputs": [
    {
     "name": "stdout",
     "output_type": "stream",
     "text": [
      "Wall time: 0 ns\n"
     ]
    },
    {
     "data": {
      "text/plain": [
       "1740"
      ]
     },
     "execution_count": 15,
     "metadata": {},
     "output_type": "execute_result"
    }
   ],
   "source": [
    "%%time\n",
    "len(tfidf.vocabulary_)"
   ]
  },
  {
   "cell_type": "code",
   "execution_count": 16,
   "metadata": {},
   "outputs": [
    {
     "name": "stdout",
     "output_type": "stream",
     "text": [
      "Wall time: 98.7 ms\n"
     ]
    }
   ],
   "source": [
    "%%time\n",
    "dn = pd.DataFrame.sparse.from_spmatrix(tfidf_matrix)"
   ]
  },
  {
   "cell_type": "code",
   "execution_count": 17,
   "metadata": {},
   "outputs": [
    {
     "data": {
      "text/html": [
       "<div>\n",
       "<style scoped>\n",
       "    .dataframe tbody tr th:only-of-type {\n",
       "        vertical-align: middle;\n",
       "    }\n",
       "\n",
       "    .dataframe tbody tr th {\n",
       "        vertical-align: top;\n",
       "    }\n",
       "\n",
       "    .dataframe thead th {\n",
       "        text-align: right;\n",
       "    }\n",
       "</style>\n",
       "<table border=\"1\" class=\"dataframe\">\n",
       "  <thead>\n",
       "    <tr style=\"text-align: right;\">\n",
       "      <th></th>\n",
       "      <th>0</th>\n",
       "      <th>1</th>\n",
       "      <th>2</th>\n",
       "      <th>3</th>\n",
       "      <th>4</th>\n",
       "      <th>5</th>\n",
       "      <th>6</th>\n",
       "      <th>7</th>\n",
       "      <th>8</th>\n",
       "      <th>9</th>\n",
       "      <th>...</th>\n",
       "      <th>1730</th>\n",
       "      <th>1731</th>\n",
       "      <th>1732</th>\n",
       "      <th>1733</th>\n",
       "      <th>1734</th>\n",
       "      <th>1735</th>\n",
       "      <th>1736</th>\n",
       "      <th>1737</th>\n",
       "      <th>1738</th>\n",
       "      <th>1739</th>\n",
       "    </tr>\n",
       "  </thead>\n",
       "  <tbody>\n",
       "    <tr>\n",
       "      <th>0</th>\n",
       "      <td>0.013209</td>\n",
       "      <td>0.006562</td>\n",
       "      <td>0.000000</td>\n",
       "      <td>0.0</td>\n",
       "      <td>0.0</td>\n",
       "      <td>0.0</td>\n",
       "      <td>0.0</td>\n",
       "      <td>0.0</td>\n",
       "      <td>0.0</td>\n",
       "      <td>0.010587</td>\n",
       "      <td>...</td>\n",
       "      <td>0.0</td>\n",
       "      <td>0.007034</td>\n",
       "      <td>0.0</td>\n",
       "      <td>0.010472</td>\n",
       "      <td>0.0</td>\n",
       "      <td>0.0</td>\n",
       "      <td>0.0</td>\n",
       "      <td>0.000000</td>\n",
       "      <td>0.0</td>\n",
       "      <td>0.0</td>\n",
       "    </tr>\n",
       "    <tr>\n",
       "      <th>1</th>\n",
       "      <td>0.000000</td>\n",
       "      <td>0.000000</td>\n",
       "      <td>0.000000</td>\n",
       "      <td>0.0</td>\n",
       "      <td>0.0</td>\n",
       "      <td>0.0</td>\n",
       "      <td>0.0</td>\n",
       "      <td>0.0</td>\n",
       "      <td>0.0</td>\n",
       "      <td>0.000000</td>\n",
       "      <td>...</td>\n",
       "      <td>0.0</td>\n",
       "      <td>0.000000</td>\n",
       "      <td>0.0</td>\n",
       "      <td>0.000000</td>\n",
       "      <td>0.0</td>\n",
       "      <td>0.0</td>\n",
       "      <td>0.0</td>\n",
       "      <td>0.000000</td>\n",
       "      <td>0.0</td>\n",
       "      <td>0.0</td>\n",
       "    </tr>\n",
       "    <tr>\n",
       "      <th>2</th>\n",
       "      <td>0.000000</td>\n",
       "      <td>0.000000</td>\n",
       "      <td>0.000000</td>\n",
       "      <td>0.0</td>\n",
       "      <td>0.0</td>\n",
       "      <td>0.0</td>\n",
       "      <td>0.0</td>\n",
       "      <td>0.0</td>\n",
       "      <td>0.0</td>\n",
       "      <td>0.000000</td>\n",
       "      <td>...</td>\n",
       "      <td>0.0</td>\n",
       "      <td>0.000000</td>\n",
       "      <td>0.0</td>\n",
       "      <td>0.000000</td>\n",
       "      <td>0.0</td>\n",
       "      <td>0.0</td>\n",
       "      <td>0.0</td>\n",
       "      <td>0.000000</td>\n",
       "      <td>0.0</td>\n",
       "      <td>0.0</td>\n",
       "    </tr>\n",
       "    <tr>\n",
       "      <th>3</th>\n",
       "      <td>0.000000</td>\n",
       "      <td>0.000000</td>\n",
       "      <td>0.000000</td>\n",
       "      <td>0.0</td>\n",
       "      <td>0.0</td>\n",
       "      <td>0.0</td>\n",
       "      <td>0.0</td>\n",
       "      <td>0.0</td>\n",
       "      <td>0.0</td>\n",
       "      <td>0.000000</td>\n",
       "      <td>...</td>\n",
       "      <td>0.0</td>\n",
       "      <td>0.000000</td>\n",
       "      <td>0.0</td>\n",
       "      <td>0.000000</td>\n",
       "      <td>0.0</td>\n",
       "      <td>0.0</td>\n",
       "      <td>0.0</td>\n",
       "      <td>0.191621</td>\n",
       "      <td>0.0</td>\n",
       "      <td>0.0</td>\n",
       "    </tr>\n",
       "    <tr>\n",
       "      <th>4</th>\n",
       "      <td>0.000000</td>\n",
       "      <td>0.000000</td>\n",
       "      <td>0.000000</td>\n",
       "      <td>0.0</td>\n",
       "      <td>0.0</td>\n",
       "      <td>0.0</td>\n",
       "      <td>0.0</td>\n",
       "      <td>0.0</td>\n",
       "      <td>0.0</td>\n",
       "      <td>0.000000</td>\n",
       "      <td>...</td>\n",
       "      <td>0.0</td>\n",
       "      <td>0.000000</td>\n",
       "      <td>0.0</td>\n",
       "      <td>0.000000</td>\n",
       "      <td>0.0</td>\n",
       "      <td>0.0</td>\n",
       "      <td>0.0</td>\n",
       "      <td>0.000000</td>\n",
       "      <td>0.0</td>\n",
       "      <td>0.0</td>\n",
       "    </tr>\n",
       "    <tr>\n",
       "      <th>...</th>\n",
       "      <td>...</td>\n",
       "      <td>...</td>\n",
       "      <td>...</td>\n",
       "      <td>...</td>\n",
       "      <td>...</td>\n",
       "      <td>...</td>\n",
       "      <td>...</td>\n",
       "      <td>...</td>\n",
       "      <td>...</td>\n",
       "      <td>...</td>\n",
       "      <td>...</td>\n",
       "      <td>...</td>\n",
       "      <td>...</td>\n",
       "      <td>...</td>\n",
       "      <td>...</td>\n",
       "      <td>...</td>\n",
       "      <td>...</td>\n",
       "      <td>...</td>\n",
       "      <td>...</td>\n",
       "      <td>...</td>\n",
       "      <td>...</td>\n",
       "    </tr>\n",
       "    <tr>\n",
       "      <th>67619</th>\n",
       "      <td>0.000000</td>\n",
       "      <td>0.000000</td>\n",
       "      <td>0.000000</td>\n",
       "      <td>0.0</td>\n",
       "      <td>0.0</td>\n",
       "      <td>0.0</td>\n",
       "      <td>0.0</td>\n",
       "      <td>0.0</td>\n",
       "      <td>0.0</td>\n",
       "      <td>0.000000</td>\n",
       "      <td>...</td>\n",
       "      <td>0.0</td>\n",
       "      <td>0.000000</td>\n",
       "      <td>0.0</td>\n",
       "      <td>0.000000</td>\n",
       "      <td>0.0</td>\n",
       "      <td>0.0</td>\n",
       "      <td>0.0</td>\n",
       "      <td>0.000000</td>\n",
       "      <td>0.0</td>\n",
       "      <td>0.0</td>\n",
       "    </tr>\n",
       "    <tr>\n",
       "      <th>67620</th>\n",
       "      <td>0.000000</td>\n",
       "      <td>0.000000</td>\n",
       "      <td>0.000000</td>\n",
       "      <td>0.0</td>\n",
       "      <td>0.0</td>\n",
       "      <td>0.0</td>\n",
       "      <td>0.0</td>\n",
       "      <td>0.0</td>\n",
       "      <td>0.0</td>\n",
       "      <td>0.000000</td>\n",
       "      <td>...</td>\n",
       "      <td>0.0</td>\n",
       "      <td>0.000000</td>\n",
       "      <td>0.0</td>\n",
       "      <td>0.000000</td>\n",
       "      <td>0.0</td>\n",
       "      <td>0.0</td>\n",
       "      <td>0.0</td>\n",
       "      <td>0.000000</td>\n",
       "      <td>0.0</td>\n",
       "      <td>0.0</td>\n",
       "    </tr>\n",
       "    <tr>\n",
       "      <th>67621</th>\n",
       "      <td>0.000000</td>\n",
       "      <td>0.000000</td>\n",
       "      <td>0.328941</td>\n",
       "      <td>0.0</td>\n",
       "      <td>0.0</td>\n",
       "      <td>0.0</td>\n",
       "      <td>0.0</td>\n",
       "      <td>0.0</td>\n",
       "      <td>0.0</td>\n",
       "      <td>0.000000</td>\n",
       "      <td>...</td>\n",
       "      <td>0.0</td>\n",
       "      <td>0.000000</td>\n",
       "      <td>0.0</td>\n",
       "      <td>0.000000</td>\n",
       "      <td>0.0</td>\n",
       "      <td>0.0</td>\n",
       "      <td>0.0</td>\n",
       "      <td>0.000000</td>\n",
       "      <td>0.0</td>\n",
       "      <td>0.0</td>\n",
       "    </tr>\n",
       "    <tr>\n",
       "      <th>67622</th>\n",
       "      <td>0.000000</td>\n",
       "      <td>0.000000</td>\n",
       "      <td>0.000000</td>\n",
       "      <td>0.0</td>\n",
       "      <td>0.0</td>\n",
       "      <td>0.0</td>\n",
       "      <td>0.0</td>\n",
       "      <td>0.0</td>\n",
       "      <td>0.0</td>\n",
       "      <td>0.000000</td>\n",
       "      <td>...</td>\n",
       "      <td>0.0</td>\n",
       "      <td>0.000000</td>\n",
       "      <td>0.0</td>\n",
       "      <td>0.000000</td>\n",
       "      <td>0.0</td>\n",
       "      <td>0.0</td>\n",
       "      <td>0.0</td>\n",
       "      <td>0.000000</td>\n",
       "      <td>0.0</td>\n",
       "      <td>0.0</td>\n",
       "    </tr>\n",
       "    <tr>\n",
       "      <th>67623</th>\n",
       "      <td>0.000000</td>\n",
       "      <td>0.000000</td>\n",
       "      <td>0.000000</td>\n",
       "      <td>0.0</td>\n",
       "      <td>0.0</td>\n",
       "      <td>0.0</td>\n",
       "      <td>0.0</td>\n",
       "      <td>0.0</td>\n",
       "      <td>0.0</td>\n",
       "      <td>0.000000</td>\n",
       "      <td>...</td>\n",
       "      <td>0.0</td>\n",
       "      <td>0.000000</td>\n",
       "      <td>0.0</td>\n",
       "      <td>0.000000</td>\n",
       "      <td>0.0</td>\n",
       "      <td>0.0</td>\n",
       "      <td>0.0</td>\n",
       "      <td>0.000000</td>\n",
       "      <td>0.0</td>\n",
       "      <td>0.0</td>\n",
       "    </tr>\n",
       "  </tbody>\n",
       "</table>\n",
       "<p>67624 rows × 1740 columns</p>\n",
       "</div>"
      ],
      "text/plain": [
       "           0         1         2     3     4     5     6     7     8     \\\n",
       "0      0.013209  0.006562  0.000000   0.0   0.0   0.0   0.0   0.0   0.0   \n",
       "1      0.000000  0.000000  0.000000   0.0   0.0   0.0   0.0   0.0   0.0   \n",
       "2      0.000000  0.000000  0.000000   0.0   0.0   0.0   0.0   0.0   0.0   \n",
       "3      0.000000  0.000000  0.000000   0.0   0.0   0.0   0.0   0.0   0.0   \n",
       "4      0.000000  0.000000  0.000000   0.0   0.0   0.0   0.0   0.0   0.0   \n",
       "...         ...       ...       ...   ...   ...   ...   ...   ...   ...   \n",
       "67619  0.000000  0.000000  0.000000   0.0   0.0   0.0   0.0   0.0   0.0   \n",
       "67620  0.000000  0.000000  0.000000   0.0   0.0   0.0   0.0   0.0   0.0   \n",
       "67621  0.000000  0.000000  0.328941   0.0   0.0   0.0   0.0   0.0   0.0   \n",
       "67622  0.000000  0.000000  0.000000   0.0   0.0   0.0   0.0   0.0   0.0   \n",
       "67623  0.000000  0.000000  0.000000   0.0   0.0   0.0   0.0   0.0   0.0   \n",
       "\n",
       "           9     ...  1730      1731  1732      1733  1734  1735  1736  \\\n",
       "0      0.010587  ...   0.0  0.007034   0.0  0.010472   0.0   0.0   0.0   \n",
       "1      0.000000  ...   0.0  0.000000   0.0  0.000000   0.0   0.0   0.0   \n",
       "2      0.000000  ...   0.0  0.000000   0.0  0.000000   0.0   0.0   0.0   \n",
       "3      0.000000  ...   0.0  0.000000   0.0  0.000000   0.0   0.0   0.0   \n",
       "4      0.000000  ...   0.0  0.000000   0.0  0.000000   0.0   0.0   0.0   \n",
       "...         ...  ...   ...       ...   ...       ...   ...   ...   ...   \n",
       "67619  0.000000  ...   0.0  0.000000   0.0  0.000000   0.0   0.0   0.0   \n",
       "67620  0.000000  ...   0.0  0.000000   0.0  0.000000   0.0   0.0   0.0   \n",
       "67621  0.000000  ...   0.0  0.000000   0.0  0.000000   0.0   0.0   0.0   \n",
       "67622  0.000000  ...   0.0  0.000000   0.0  0.000000   0.0   0.0   0.0   \n",
       "67623  0.000000  ...   0.0  0.000000   0.0  0.000000   0.0   0.0   0.0   \n",
       "\n",
       "           1737  1738  1739  \n",
       "0      0.000000   0.0   0.0  \n",
       "1      0.000000   0.0   0.0  \n",
       "2      0.000000   0.0   0.0  \n",
       "3      0.191621   0.0   0.0  \n",
       "4      0.000000   0.0   0.0  \n",
       "...         ...   ...   ...  \n",
       "67619  0.000000   0.0   0.0  \n",
       "67620  0.000000   0.0   0.0  \n",
       "67621  0.000000   0.0   0.0  \n",
       "67622  0.000000   0.0   0.0  \n",
       "67623  0.000000   0.0   0.0  \n",
       "\n",
       "[67624 rows x 1740 columns]"
      ]
     },
     "execution_count": 17,
     "metadata": {},
     "output_type": "execute_result"
    }
   ],
   "source": [
    "dn"
   ]
  },
  {
   "cell_type": "code",
   "execution_count": 18,
   "metadata": {
    "scrolled": true
   },
   "outputs": [
    {
     "name": "stdout",
     "output_type": "stream",
     "text": [
      "[0.01284971 0.02532599 0.01783335 0.01390644 0.01191672 0.01048781\n",
      " 0.00890187 0.00793407 0.00694107 0.00641578 0.00598934 0.00566482\n",
      " 0.0052877  0.00500848 0.00488534 0.00468479 0.00457318 0.00438951\n",
      " 0.00430708 0.00413448 0.0040118  0.00400596 0.00390218 0.00386503\n",
      " 0.00378525 0.0037135  0.00361557 0.00355142 0.00348168 0.00345191\n",
      " 0.00333923 0.00323925 0.00320581 0.0031668  0.00310885 0.00302393\n",
      " 0.00297262 0.00289839 0.00287718 0.00279555 0.00277909 0.0027433\n",
      " 0.00268713 0.00267405 0.00263782 0.00262516 0.0026132  0.00256031\n",
      " 0.00252261 0.0024905  0.00246319 0.00245834 0.00241211 0.00236393\n",
      " 0.0023514  0.00230668 0.0022922  0.00225895 0.00222967 0.00221729\n",
      " 0.00220726 0.00218499 0.00215404 0.00213932 0.00212021 0.00210534\n",
      " 0.00208764 0.00207045 0.00204699 0.00202513 0.00199147 0.0019846\n",
      " 0.00196503 0.00194596 0.00193025 0.00191566 0.00190435 0.00188604\n",
      " 0.00187567 0.00187468 0.00185448 0.00184012 0.00181172 0.00180688\n",
      " 0.00179392 0.00177586 0.00176108 0.00174449 0.0017351  0.00172764\n",
      " 0.00172106 0.00171236 0.00170522 0.00169603 0.00167549 0.00166965\n",
      " 0.00166487 0.00165486 0.00164214 0.00163389 0.00163077 0.00162103\n",
      " 0.00161708 0.00160163 0.00158302 0.0015724  0.00156564 0.00156418\n",
      " 0.00155421 0.00154675 0.00153736 0.00152507 0.00151836 0.00150482\n",
      " 0.00149611 0.00148739 0.00147085 0.0014674  0.00145674 0.00144963\n",
      " 0.00143618 0.00142084 0.00141684 0.00141307 0.00140479 0.00140436\n",
      " 0.00139621 0.00138979 0.00138166 0.00137083 0.00136707 0.00135025\n",
      " 0.00134918 0.00134749 0.00134307 0.00133626 0.00132836 0.00132565\n",
      " 0.00131172 0.00130646 0.0012996  0.00129309 0.00128599 0.001282\n",
      " 0.00127631 0.0012641  0.00125685 0.00125063 0.00124526 0.00124172\n",
      " 0.00123103 0.00122929 0.00121692 0.00121402 0.00121026 0.0012023\n",
      " 0.00119634 0.0011906  0.00118596 0.00118072 0.0011789  0.00117085\n",
      " 0.00116567 0.00116364 0.00115615 0.00115363 0.00114751 0.00114556\n",
      " 0.00113886 0.00113103 0.00112849 0.00112707 0.0011214  0.00111961\n",
      " 0.0011125  0.00110945 0.00110933 0.00110681 0.00110347 0.00110162\n",
      " 0.00109972 0.00108854 0.00108713 0.00108501 0.00108149 0.00107849\n",
      " 0.00107198 0.00106973 0.00106864 0.0010645  0.00106047 0.00105842\n",
      " 0.0010541  0.00104924 0.00104712 0.00104373 0.00103797 0.00103694\n",
      " 0.00103199 0.00102995 0.00102556 0.00102181 0.00101752 0.00101449\n",
      " 0.0010113  0.0010072  0.00100498 0.00099988 0.00099861 0.00099696\n",
      " 0.00099016 0.00098629 0.00098253 0.00098114 0.00097796 0.00097609\n",
      " 0.000972   0.00096876 0.00096419 0.00096192 0.00096145 0.00095708\n",
      " 0.00095629 0.00095381 0.00095056 0.00094772 0.00094675 0.00094071\n",
      " 0.00093812 0.00093561 0.00093098 0.00093044 0.00092883 0.00092467\n",
      " 0.000923   0.00091997 0.00091856 0.00091721 0.00091299 0.00091221\n",
      " 0.00091019 0.0009058  0.00090189 0.00090054 0.00089815 0.00089484\n",
      " 0.00089208 0.00088898 0.00088655 0.0008849  0.00088119 0.00087768\n",
      " 0.00087586 0.00087337 0.00087119 0.00086832 0.00086606 0.00086229\n",
      " 0.00086156 0.00085862 0.00085805 0.00085163 0.00084939 0.00084701\n",
      " 0.00084518 0.00084013 0.00083882 0.00083607 0.00083472 0.00083216\n",
      " 0.00083023 0.00082986 0.00082667 0.00082443 0.00082277 0.00081985\n",
      " 0.00081689 0.00081497 0.00081211 0.00081179 0.00080945 0.00080791\n",
      " 0.00080428 0.00080283 0.0007995  0.00079569 0.00079366 0.00079135\n",
      " 0.00079114 0.00079077 0.00078718 0.00078373 0.00078303 0.00077827\n",
      " 0.00077522 0.00077426 0.00077267 0.00076888 0.00076646 0.0007658\n",
      " 0.00076491 0.00076428 0.00076168 0.00075812 0.00075746 0.00075554\n",
      " 0.00075126 0.00075211 0.00074781 0.00074773 0.00074141 0.00074089\n",
      " 0.00073831 0.00073688 0.0007357  0.0007349  0.00073109 0.00072806\n",
      " 0.00072341 0.00072227 0.00072167 0.0007197  0.000716   0.00071296\n",
      " 0.0007117  0.00070998 0.00070742 0.00070356 0.00070041 0.00069929\n",
      " 0.00069476 0.00069278 0.00069267 0.0006902  0.00068852 0.00068713\n",
      " 0.00068269 0.00068037 0.00067907 0.0006759  0.00067199 0.00067069\n",
      " 0.00066624 0.000665   0.00066233 0.00065916 0.00065785 0.00065065\n",
      " 0.00064661 0.00064482]\n",
      "61.510553733759586\n"
     ]
    }
   ],
   "source": [
    "svd = TruncatedSVD(n_components=350)\n",
    "new_dn = svd.fit_transform(dn)\n",
    "print(svd.explained_variance_ratio_)\n",
    "print(svd.explained_variance_ratio_.sum()*100)"
   ]
  },
  {
   "cell_type": "code",
   "execution_count": 19,
   "metadata": {},
   "outputs": [],
   "source": [
    "def profile(fnc):\n",
    "\n",
    "    \"\"\"a decorator that uses Cprofile to profile a function\"\"\"\n",
    "\n",
    "    def inner(*args, **kwargs):\n",
    "        \n",
    "        pr = cProfile.Profile()\n",
    "        pr.enable()\n",
    "        retval = fnc (*args, **kwargs)\n",
    "        pr.disable()\n",
    "        s = io.StringIO()\n",
    "        sortby = 'cumulative'\n",
    "        ps = pstats.Stats(pr, stream=s).sort_stats(sortby)\n",
    "        ps.print_stats()\n",
    "        print(s.getvalue())\n",
    "        return retval\n",
    "\n",
    "    return inner"
   ]
  },
  {
   "cell_type": "markdown",
   "metadata": {},
   "source": [
    "## K-Means 1\n"
   ]
  },
  {
   "cell_type": "code",
   "execution_count": 20,
   "metadata": {},
   "outputs": [],
   "source": [
    "from collections import defaultdict\n",
    "\n",
    "\n",
    "def calc_distance(X1, X2):\n",
    "    return np.sqrt(sum((X1 - X2)**2))\n",
    "\n",
    "\n",
    "def initialization(dn, k):\n",
    "    temp = random.sample(list(dn), k)\n",
    "    return np.array(temp)\n",
    "\n",
    "\n",
    "def assign_cluster(new_dn, centroids):\n",
    "    print('assign_cluster')\n",
    "    clusters = defaultdict(list)\n",
    "    clusters_idx = defaultdict(list)\n",
    "    for i, x in enumerate(new_dn):\n",
    "        centroid = np.argmin([np.array([np.linalg.norm(x-mu_j) for j,mu_j in enumerate(centroids)])])\n",
    "        clusters[centroid].append(x)\n",
    "        clusters_idx[centroid].append(i)\n",
    "    return clusters, clusters_idx\n",
    "\n",
    "\n",
    "@profile\n",
    "def kmeans(new_dn, k, centroids = None, cluster_prec = defaultdict(list),init=True):\n",
    "    if init:\n",
    "        centroids = initialization(new_dn, k)\n",
    "\n",
    "    clusters, clusters_idx = assign_cluster(new_dn, centroids)\n",
    "    if clusters_idx == cluster_prec[1]:\n",
    "        print('stop condition')\n",
    "        return clusters\n",
    "    else:\n",
    "        centroids = update_centroid(centroids, clusters, k)\n",
    "        return kmeans(new_dn, k, centroids, cluster_prec = (clusters.copy(), clusters_idx),init=False)\n",
    "\n",
    "def update_centroid(centroids,clusters,k):\n",
    "    upd_c = np.array([np.round(np.mean(clusters[i], axis = 0),5) if i in clusters.keys() else centroids[i] for i in range(k)])\n",
    "    return upd_c"
   ]
  },
  {
   "cell_type": "markdown",
   "metadata": {},
   "source": [
    "## K Means 2"
   ]
  },
  {
   "cell_type": "code",
   "execution_count": 63,
   "metadata": {},
   "outputs": [],
   "source": [
    "class Kmeans():\n",
    "\n",
    "    def __init__(self, n_clusters):\n",
    "        self.n_clusters = n_clusters\n",
    "        self.prev_labels = [1]\n",
    "        self.labels = []\n",
    "\n",
    "\n",
    "    def initialize_algo(self, matrix):\n",
    "        random_indices = np.random.choice(len(matrix), size= self.n_clusters, replace=False)\n",
    "        self.centroids = matrix[random_indices, :]\n",
    "\n",
    "\n",
    "\n",
    "    def stop_iteration_flag(self):\n",
    "        if self.labels == self.prev_labels:\n",
    "            return True\n",
    "        else:\n",
    "            return False\n",
    "\n",
    "    \n",
    "    def compute_distance(self, vec1, vec2):\n",
    "        return np.linalg.norm(vec1 - vec2)\n",
    "\n",
    "    \n",
    "    def assign_clusters(self, matrix):\n",
    "        self.clusters = {}\n",
    "        self.prev_labels = self.labels.copy()\n",
    "        self.labels = []\n",
    "        \n",
    "        for row in matrix:\n",
    "            centroid_idx = np.argmin([self.compute_distance(row, centroid) for centroid in self.centroids])\n",
    "            self.clusters.setdefault(centroid_idx, []).append(row)\n",
    "            self.labels.append(centroid_idx)\n",
    "\n",
    "    \n",
    "    def update_centroids(self):\n",
    "        self.centroids = [np.mean(i, axis = 0) for i in self.clusters.values()]\n",
    "\n",
    "    @profile\n",
    "    def fit(self, matrix):\n",
    "        self.initialize_algo(matrix)\n",
    "        iter_count = 0\n",
    "        while not self.stop_iteration_flag():\n",
    "            print(\"iteration no. {0}\".format(iter_count))\n",
    "            self.assign_clusters(matrix)\n",
    "            self.update_centroids()\n",
    "            iter_count += 1\n",
    "        \n",
    "        return self.labels"
   ]
  },
  {
   "cell_type": "markdown",
   "metadata": {},
   "source": [
    "## Test K Means"
   ]
  },
  {
   "cell_type": "code",
   "execution_count": 64,
   "metadata": {},
   "outputs": [
    {
     "name": "stdout",
     "output_type": "stream",
     "text": [
      "iteration no. 0\n",
      "iteration no. 1\n",
      "iteration no. 2\n",
      "iteration no. 3\n",
      "iteration no. 4\n",
      "iteration no. 5\n",
      "iteration no. 6\n",
      "iteration no. 7\n",
      "iteration no. 8\n",
      "iteration no. 9\n",
      "iteration no. 10\n",
      "iteration no. 11\n",
      "iteration no. 12\n",
      "iteration no. 13\n",
      "iteration no. 14\n",
      "iteration no. 15\n",
      "iteration no. 16\n",
      "iteration no. 17\n",
      "iteration no. 18\n",
      "iteration no. 19\n",
      "iteration no. 20\n",
      "iteration no. 21\n",
      "iteration no. 22\n",
      "iteration no. 23\n",
      "iteration no. 24\n",
      "iteration no. 25\n",
      "iteration no. 26\n",
      "iteration no. 27\n",
      "iteration no. 28\n",
      "iteration no. 29\n",
      "iteration no. 30\n",
      "iteration no. 31\n",
      "iteration no. 32\n",
      "iteration no. 33\n",
      "iteration no. 34\n",
      "iteration no. 35\n",
      "iteration no. 36\n",
      "iteration no. 37\n",
      "iteration no. 38\n",
      "iteration no. 39\n",
      "iteration no. 40\n",
      "iteration no. 41\n",
      "iteration no. 42\n",
      "iteration no. 43\n",
      "iteration no. 44\n",
      "iteration no. 45\n",
      "iteration no. 46\n",
      "iteration no. 47\n",
      "iteration no. 48\n",
      "iteration no. 49\n",
      "iteration no. 50\n",
      "iteration no. 51\n",
      "iteration no. 52\n",
      "iteration no. 53\n",
      "iteration no. 54\n",
      "iteration no. 55\n",
      "iteration no. 56\n",
      "iteration no. 57\n",
      "iteration no. 58\n",
      "iteration no. 59\n",
      "iteration no. 60\n",
      "iteration no. 61\n",
      "iteration no. 62\n",
      "iteration no. 63\n",
      "         367881743 function calls (346242063 primitive calls) in 286.754 seconds\n",
      "\n",
      "   Ordered by: cumulative time\n",
      "\n",
      "   ncalls  tottime  percall  cumtime  percall filename:lineno(function)\n",
      "        1    0.001    0.001  286.754  286.754 <ipython-input-63-cb6e4f099559>:40(fit)\n",
      "       64   11.981    0.187  278.878    4.357 <ipython-input-63-cb6e4f099559>:26(assign_clusters)\n",
      "  4327936    8.582    0.000  224.345    0.000 <ipython-input-63-cb6e4f099559>:32(<listcomp>)\n",
      " 21639680   35.747    0.000  215.762    0.000 <ipython-input-63-cb6e4f099559>:22(compute_distance)\n",
      "47607617/25967937   40.192    0.000  207.635    0.000 {built-in method numpy.core._multiarray_umath.implement_array_function}\n",
      " 21639680   13.252    0.000  180.015    0.000 <__array_function__ internals>:2(norm)\n",
      " 21639680   74.906    0.000  150.129    0.000 c:\\users\\manue\\appdata\\local\\programs\\python\\python39\\lib\\site-packages\\numpy\\linalg\\linalg.py:2363(norm)\n",
      " 21639680   12.431    0.000   40.455    0.000 <__array_function__ internals>:2(dot)\n",
      "  4327936    2.771    0.000   40.111    0.000 <__array_function__ internals>:2(argmin)\n",
      "  4327936    2.937    0.000   34.544    0.000 c:\\users\\manue\\appdata\\local\\programs\\python\\python39\\lib\\site-packages\\numpy\\core\\fromnumeric.py:1195(argmin)\n",
      "  4327936    5.314    0.000   31.607    0.000 c:\\users\\manue\\appdata\\local\\programs\\python\\python39\\lib\\site-packages\\numpy\\core\\fromnumeric.py:52(_wrapfunc)\n",
      "  4327936    7.998    0.000   25.414    0.000 c:\\users\\manue\\appdata\\local\\programs\\python\\python39\\lib\\site-packages\\numpy\\core\\fromnumeric.py:39(_wrapit)\n",
      " 25967616    7.291    0.000   23.623    0.000 c:\\users\\manue\\appdata\\local\\programs\\python\\python39\\lib\\site-packages\\numpy\\core\\_asarray.py:14(asarray)\n",
      " 25967936   22.149    0.000   22.149    0.000 {built-in method numpy.array}\n",
      " 21639680   11.287    0.000   11.287    0.000 {method 'ravel' of 'numpy.ndarray' objects}\n",
      " 21639680    5.627    0.000    8.570    0.000 c:\\users\\manue\\appdata\\local\\programs\\python\\python39\\lib\\site-packages\\numpy\\linalg\\linalg.py:112(isComplexType)\n",
      "       64    0.000    0.000    7.855    0.123 <ipython-input-63-cb6e4f099559>:37(update_centroids)\n",
      "       64    0.002    0.000    7.855    0.123 <ipython-input-63-cb6e4f099559>:38(<listcomp>)\n",
      "      320    0.001    0.000    7.853    0.025 <__array_function__ internals>:2(mean)\n",
      "      320    1.006    0.003    7.850    0.025 c:\\users\\manue\\appdata\\local\\programs\\python\\python39\\lib\\site-packages\\numpy\\core\\fromnumeric.py:3269(mean)\n",
      "      320    0.011    0.000    6.845    0.021 c:\\users\\manue\\appdata\\local\\programs\\python\\python39\\lib\\site-packages\\numpy\\core\\_methods.py:143(_mean)\n",
      " 43280000    6.364    0.000    6.364    0.000 {built-in method builtins.issubclass}\n",
      "      320    0.001    0.000    5.818    0.018 c:\\users\\manue\\appdata\\local\\programs\\python\\python39\\lib\\site-packages\\numpy\\core\\_asarray.py:86(asanyarray)\n",
      "  4327936    4.359    0.000    4.359    0.000 {method 'argmin' of 'numpy.ndarray' objects}\n",
      " 21639680    3.579    0.000    3.579    0.000 c:\\users\\manue\\appdata\\local\\programs\\python\\python39\\lib\\site-packages\\numpy\\linalg\\linalg.py:2359(_norm_dispatcher)\n",
      " 21639680    2.944    0.000    2.944    0.000 c:\\users\\manue\\appdata\\local\\programs\\python\\python39\\lib\\site-packages\\numpy\\core\\multiarray.py:706(dot)\n",
      "  8655873    1.804    0.000    1.804    0.000 {built-in method builtins.getattr}\n",
      "  4327936    1.332    0.000    1.332    0.000 {method 'setdefault' of 'dict' objects}\n",
      "  8655872    1.091    0.000    1.091    0.000 {method 'append' of 'list' objects}\n",
      "      321    1.011    0.003    1.011    0.003 {method 'reduce' of 'numpy.ufunc' objects}\n",
      "  4327936    0.741    0.000    0.741    0.000 c:\\users\\manue\\appdata\\local\\programs\\python\\python39\\lib\\site-packages\\numpy\\core\\fromnumeric.py:1191(_argmin_dispatcher)\n",
      "       64    0.017    0.000    0.017    0.000 {method 'copy' of 'list' objects}\n",
      "       64    0.000    0.000    0.011    0.000 {built-in method builtins.print}\n",
      "      128    0.001    0.000    0.010    0.000 c:\\users\\manue\\appdata\\local\\programs\\python\\python39\\lib\\site-packages\\ipykernel\\iostream.py:386(write)\n",
      "      192    0.001    0.000    0.009    0.000 c:\\users\\manue\\appdata\\local\\programs\\python\\python39\\lib\\site-packages\\ipykernel\\iostream.py:197(schedule)\n",
      "       65    0.007    0.000    0.007    0.000 <ipython-input-63-cb6e4f099559>:15(stop_iteration_flag)\n",
      "      192    0.007    0.000    0.007    0.000 c:\\users\\manue\\appdata\\local\\programs\\python\\python39\\lib\\site-packages\\zmq\\sugar\\socket.py:432(send)\n",
      "      320    0.003    0.000    0.004    0.000 c:\\users\\manue\\appdata\\local\\programs\\python\\python39\\lib\\site-packages\\numpy\\core\\_methods.py:59(_count_reduce_items)\n",
      "        1    0.000    0.000    0.002    0.002 <ipython-input-63-cb6e4f099559>:9(initialize_algo)\n",
      "        1    0.002    0.002    0.002    0.002 {method 'choice' of 'numpy.random.mtrand.RandomState' objects}\n",
      "      128    0.000    0.000    0.002    0.000 c:\\users\\manue\\appdata\\local\\programs\\python\\python39\\lib\\site-packages\\ipykernel\\iostream.py:323(_schedule_flush)\n",
      "      192    0.000    0.000    0.001    0.000 c:\\users\\manue\\appdata\\local\\programs\\python\\python39\\lib\\threading.py:1089(is_alive)\n",
      "      768    0.001    0.000    0.001    0.000 {built-in method builtins.isinstance}\n",
      "      320    0.000    0.000    0.000    0.000 {built-in method numpy.core._multiarray_umath.normalize_axis_index}\n",
      "      192    0.000    0.000    0.000    0.000 c:\\users\\manue\\appdata\\local\\programs\\python\\python39\\lib\\threading.py:1035(_wait_for_tstate_lock)\n",
      "      128    0.000    0.000    0.000    0.000 c:\\users\\manue\\appdata\\local\\programs\\python\\python39\\lib\\site-packages\\ipykernel\\iostream.py:310(_is_master_process)\n",
      "      192    0.000    0.000    0.000    0.000 {method 'acquire' of '_thread.lock' objects}\n",
      "       64    0.000    0.000    0.000    0.000 {method 'format' of 'str' objects}\n",
      "      192    0.000    0.000    0.000    0.000 c:\\users\\manue\\appdata\\local\\programs\\python\\python39\\lib\\site-packages\\ipykernel\\iostream.py:93(_event_pipe)\n",
      "      320    0.000    0.000    0.000    0.000 c:\\users\\manue\\appdata\\local\\programs\\python\\python39\\lib\\site-packages\\numpy\\core\\fromnumeric.py:3265(_mean_dispatcher)\n",
      "      128    0.000    0.000    0.000    0.000 {built-in method nt.getpid}\n",
      "      192    0.000    0.000    0.000    0.000 c:\\users\\manue\\appdata\\local\\programs\\python\\python39\\lib\\threading.py:529(is_set)\n",
      "      192    0.000    0.000    0.000    0.000 {method 'append' of 'collections.deque' objects}\n",
      "        1    0.000    0.000    0.000    0.000 <__array_function__ internals>:2(prod)\n",
      "       64    0.000    0.000    0.000    0.000 {method 'values' of 'dict' objects}\n",
      "        1    0.000    0.000    0.000    0.000 c:\\users\\manue\\appdata\\local\\programs\\python\\python39\\lib\\site-packages\\numpy\\core\\fromnumeric.py:2881(prod)\n",
      "        1    0.000    0.000    0.000    0.000 c:\\users\\manue\\appdata\\local\\programs\\python\\python39\\lib\\site-packages\\numpy\\core\\fromnumeric.py:70(_wrapreduction)\n",
      "        1    0.000    0.000    0.000    0.000 c:\\users\\manue\\appdata\\local\\programs\\python\\python39\\lib\\site-packages\\numpy\\core\\fromnumeric.py:71(<dictcomp>)\n",
      "        1    0.000    0.000    0.000    0.000 {built-in method builtins.len}\n",
      "        1    0.000    0.000    0.000    0.000 {method 'disable' of '_lsprof.Profiler' objects}\n",
      "        1    0.000    0.000    0.000    0.000 c:\\users\\manue\\appdata\\local\\programs\\python\\python39\\lib\\site-packages\\numpy\\core\\fromnumeric.py:2876(_prod_dispatcher)\n",
      "        1    0.000    0.000    0.000    0.000 {method 'items' of 'dict' objects}\n",
      "\n",
      "\n",
      "\n"
     ]
    }
   ],
   "source": [
    "model_test = Kmeans(5)\n",
    "ans = model_test.fit(new_dn)"
   ]
  },
  {
   "cell_type": "code",
   "execution_count": null,
   "metadata": {},
   "outputs": [],
   "source": [
    "my_dict = {}\n",
    "for idx, key in enumerate(ans):\n",
    "    my_dict.setdefault(key, set()).add(idx)\n",
    "    "
   ]
  },
  {
   "cell_type": "code",
   "execution_count": null,
   "metadata": {},
   "outputs": [],
   "source": [
    "%%time\n",
    "\n",
    "type(initialization(new_dn,5))"
   ]
  },
  {
   "cell_type": "code",
   "execution_count": null,
   "metadata": {},
   "outputs": [],
   "source": [
    "%%time\n",
    "c = kmeans(new_dn, 5)\n",
    "#update_centroid(initialization(new_dn, 5), c, 5)"
   ]
  },
  {
   "cell_type": "code",
   "execution_count": null,
   "metadata": {},
   "outputs": [],
   "source": [
    "c.keys()"
   ]
  },
  {
   "cell_type": "code",
   "execution_count": 46,
   "metadata": {},
   "outputs": [],
   "source": [
    "model = KMeans(init = 'k-means++', n_clusters = 5)"
   ]
  },
  {
   "cell_type": "code",
   "execution_count": 47,
   "metadata": {},
   "outputs": [],
   "source": [
    "slice = new_dn[:] # only column 3 to 6"
   ]
  },
  {
   "cell_type": "code",
   "execution_count": 48,
   "metadata": {},
   "outputs": [
    {
     "data": {
      "text/plain": [
       "KMeans(n_clusters=5)"
      ]
     },
     "execution_count": 48,
     "metadata": {},
     "output_type": "execute_result"
    }
   ],
   "source": [
    "model.fit(slice)"
   ]
  },
  {
   "cell_type": "code",
   "execution_count": 49,
   "metadata": {},
   "outputs": [],
   "source": [
    "cluster = model.predict(slice)"
   ]
  },
  {
   "cell_type": "code",
   "execution_count": 50,
   "metadata": {},
   "outputs": [
    {
     "data": {
      "text/plain": [
       "array([1, 1, 2, 1, 1, 2, 1, 1, 1, 1])"
      ]
     },
     "execution_count": 50,
     "metadata": {},
     "output_type": "execute_result"
    }
   ],
   "source": [
    "cluster[:10]"
   ]
  },
  {
   "cell_type": "code",
   "execution_count": null,
   "metadata": {},
   "outputs": [],
   "source": [
    "new_dataframe = pd.DataFrame()\n",
    "new_dataframe['ProductId'] = new_df['ProductId']\n",
    "new_dataframe['Cluster'] = cluster"
   ]
  },
  {
   "cell_type": "code",
   "execution_count": null,
   "metadata": {},
   "outputs": [],
   "source": [
    "dt.loc[(dt['ProductId'] == 'B009UOFU20') | (dt['ProductId'] == 'B009UOFTUI')]"
   ]
  },
  {
   "cell_type": "code",
   "execution_count": null,
   "metadata": {},
   "outputs": [],
   "source": [
    "new_dataframe.groupby('Cluster').count().sort_values(by='ProductId')\n",
    "lista = new_dataframe.loc[new_dataframe['Cluster'] == 52]\n",
    "lista2 = lista['ProductId']\n",
    "new_df.loc[new_df['ProductId'].isin(lista2)]"
   ]
  },
  {
   "cell_type": "code",
   "execution_count": null,
   "metadata": {},
   "outputs": [],
   "source": [
    "slice['cluster'] = cluster"
   ]
  },
  {
   "cell_type": "markdown",
   "metadata": {},
   "source": [
    "Let's plot the results"
   ]
  },
  {
   "cell_type": "code",
   "execution_count": null,
   "metadata": {},
   "outputs": [],
   "source": []
  },
  {
   "cell_type": "code",
   "execution_count": null,
   "metadata": {},
   "outputs": [],
   "source": []
  },
  {
   "cell_type": "code",
   "execution_count": null,
   "metadata": {},
   "outputs": [],
   "source": []
  },
  {
   "cell_type": "code",
   "execution_count": null,
   "metadata": {},
   "outputs": [],
   "source": []
  },
  {
   "cell_type": "code",
   "execution_count": null,
   "metadata": {},
   "outputs": [],
   "source": []
  },
  {
   "cell_type": "code",
   "execution_count": null,
   "metadata": {},
   "outputs": [],
   "source": []
  },
  {
   "cell_type": "code",
   "execution_count": null,
   "metadata": {},
   "outputs": [],
   "source": []
  },
  {
   "cell_type": "code",
   "execution_count": null,
   "metadata": {},
   "outputs": [],
   "source": []
  },
  {
   "cell_type": "code",
   "execution_count": null,
   "metadata": {},
   "outputs": [],
   "source": []
  },
  {
   "cell_type": "code",
   "execution_count": null,
   "metadata": {},
   "outputs": [],
   "source": []
  },
  {
   "cell_type": "code",
   "execution_count": null,
   "metadata": {},
   "outputs": [],
   "source": []
  },
  {
   "cell_type": "code",
   "execution_count": null,
   "metadata": {},
   "outputs": [],
   "source": []
  },
  {
   "cell_type": "code",
   "execution_count": null,
   "metadata": {},
   "outputs": [],
   "source": []
  },
  {
   "cell_type": "code",
   "execution_count": null,
   "metadata": {},
   "outputs": [],
   "source": []
  },
  {
   "cell_type": "code",
   "execution_count": null,
   "metadata": {},
   "outputs": [],
   "source": []
  },
  {
   "cell_type": "code",
   "execution_count": null,
   "metadata": {},
   "outputs": [],
   "source": []
  },
  {
   "cell_type": "code",
   "execution_count": null,
   "metadata": {},
   "outputs": [],
   "source": []
  },
  {
   "cell_type": "code",
   "execution_count": null,
   "metadata": {},
   "outputs": [],
   "source": []
  },
  {
   "cell_type": "code",
   "execution_count": null,
   "metadata": {},
   "outputs": [],
   "source": []
  },
  {
   "cell_type": "code",
   "execution_count": null,
   "metadata": {},
   "outputs": [],
   "source": []
  },
  {
   "cell_type": "code",
   "execution_count": null,
   "metadata": {},
   "outputs": [],
   "source": []
  },
  {
   "cell_type": "code",
   "execution_count": null,
   "metadata": {},
   "outputs": [],
   "source": []
  },
  {
   "cell_type": "code",
   "execution_count": null,
   "metadata": {},
   "outputs": [],
   "source": [
    "from matplotlib import pyplot as plt"
   ]
  },
  {
   "cell_type": "code",
   "execution_count": null,
   "metadata": {},
   "outputs": [],
   "source": [
    "fig = plt.figure()\n",
    "for cluster in range(0, 10):\n",
    "    plt.scatter(slice[slice.cluster == cluster].Score, slice[slice.cluster == cluster].HelpfulnessNumerator)\n",
    "plt.show()"
   ]
  },
  {
   "cell_type": "code",
   "execution_count": null,
   "metadata": {},
   "outputs": [],
   "source": [
    "model = KMeans(verbose=False)\n",
    "slice = dataset.iloc[:,3:6]\n",
    "model.fit(slice)\n",
    "cluster_values = model.predict(slice)\n",
    "dataset['cluster'] = cluster_values\n",
    "fig = plt.figure()\n",
    "for cluster in range(0,10):\n",
    "    plt.scatter(dataset[dataset.cluster == cluster].Score, dataset[dataset.cluster == cluster].HelpfulnessDenominator)\n",
    "plt.show()"
   ]
  },
  {
   "cell_type": "code",
   "execution_count": null,
   "metadata": {},
   "outputs": [],
   "source": [
    "fig = plt.figure()\n",
    "for cluster in range(0,10):\n",
    "    plt.scatter(dataset[dataset.cluster == cluster].HelpfulnessNumerator, dataset[dataset.cluster == cluster].HelpfulnessDenominator)\n",
    "plt.show()"
   ]
  },
  {
   "cell_type": "code",
   "execution_count": null,
   "metadata": {},
   "outputs": [],
   "source": [
    "from tqdm import tqdm"
   ]
  },
  {
   "cell_type": "code",
   "execution_count": null,
   "metadata": {},
   "outputs": [],
   "source": [
    "slice = dataset.iloc[:,3:6]"
   ]
  },
  {
   "cell_type": "code",
   "execution_count": null,
   "metadata": {},
   "outputs": [],
   "source": [
    "elbow = {}\n",
    "for k in tqdm(range(3,20)):\n",
    "    elbow_model = KMeans(n_clusters=k)\n",
    "    elbow_model.fit_predict(slice)\n",
    "    elbow[k] = elbow_model.inertia_ "
   ]
  },
  {
   "cell_type": "code",
   "execution_count": null,
   "metadata": {},
   "outputs": [],
   "source": [
    "plt.plot(list(elbow.keys()), list(elbow.values()))"
   ]
  },
  {
   "cell_type": "code",
   "execution_count": null,
   "metadata": {},
   "outputs": [],
   "source": [
    "products_per_cluster = {}\n",
    "for cluster in range(0,6):\n",
    "    products_per_cluster[cluster] = len(dataset[dataset.cluster == cluster].ProductId.unique())"
   ]
  },
  {
   "cell_type": "code",
   "execution_count": null,
   "metadata": {},
   "outputs": [],
   "source": [
    "products_per_cluster"
   ]
  },
  {
   "cell_type": "code",
   "execution_count": null,
   "metadata": {},
   "outputs": [],
   "source": [
    "users_per_cluster = {}\n",
    "for cluster in range(0,6):\n",
    "    users_per_cluster[cluster] = len(dataset[dataset.cluster == cluster].UserId.unique())"
   ]
  },
  {
   "cell_type": "code",
   "execution_count": null,
   "metadata": {},
   "outputs": [],
   "source": [
    "users_per_cluster"
   ]
  },
  {
   "cell_type": "code",
   "execution_count": null,
   "metadata": {},
   "outputs": [],
   "source": [
    "row_per_cluster = {}\n",
    "for cluster in range(0,6):\n",
    "    row_per_cluster[cluster] = len(dataset[dataset.cluster == cluster])"
   ]
  },
  {
   "cell_type": "code",
   "execution_count": null,
   "metadata": {},
   "outputs": [],
   "source": [
    "row_per_cluster"
   ]
  },
  {
   "cell_type": "code",
   "execution_count": null,
   "metadata": {},
   "outputs": [],
   "source": []
  },
  {
   "cell_type": "code",
   "execution_count": null,
   "metadata": {},
   "outputs": [],
   "source": []
  }
 ],
 "metadata": {
  "kernelspec": {
   "display_name": "Python 3",
   "language": "python",
   "name": "python3"
  },
  "language_info": {
   "codemirror_mode": {
    "name": "ipython",
    "version": 3
   },
   "file_extension": ".py",
   "mimetype": "text/x-python",
   "name": "python",
   "nbconvert_exporter": "python",
   "pygments_lexer": "ipython3",
   "version": "3.9.0"
  }
 },
 "nbformat": 4,
 "nbformat_minor": 4
}
