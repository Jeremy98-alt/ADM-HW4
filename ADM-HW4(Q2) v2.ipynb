{
 "cells": [
  {
   "cell_type": "code",
   "execution_count": 1,
   "metadata": {},
   "outputs": [],
   "source": [
    "import pandas as pd\n",
    "import numpy as np\n",
    "import nltk\n",
    "from nltk.corpus import stopwords\n",
    "from nltk.stem.snowball import PorterStemmer\n",
    "from nltk.tokenize import RegexpTokenizer\n",
    "from langdetect import detect\n",
    "from sklearn.feature_extraction.text import TfidfVectorizer\n",
    "from sklearn.decomposition import TruncatedSVD\n",
    "from sklearn.cluster import KMeans\n",
    "from tqdm import tqdm\n",
    "from matplotlib import pyplot as plt"
   ]
  },
  {
   "cell_type": "markdown",
   "metadata": {},
   "source": [
    "# Question 2 - Clustering"
   ]
  },
  {
   "cell_type": "code",
   "execution_count": 67,
   "metadata": {},
   "outputs": [],
   "source": [
    "dt = pd.read_csv('Reviews.csv', sep=\",\", usecols = [i for i in range(1,10)])"
   ]
  },
  {
   "cell_type": "code",
   "execution_count": 70,
   "metadata": {
    "scrolled": true
   },
   "outputs": [
    {
     "data": {
      "text/html": [
       "<div>\n",
       "<style scoped>\n",
       "    .dataframe tbody tr th:only-of-type {\n",
       "        vertical-align: middle;\n",
       "    }\n",
       "\n",
       "    .dataframe tbody tr th {\n",
       "        vertical-align: top;\n",
       "    }\n",
       "\n",
       "    .dataframe thead th {\n",
       "        text-align: right;\n",
       "    }\n",
       "</style>\n",
       "<table border=\"1\" class=\"dataframe\">\n",
       "  <thead>\n",
       "    <tr style=\"text-align: right;\">\n",
       "      <th></th>\n",
       "      <th>ProductId</th>\n",
       "      <th>UserId</th>\n",
       "      <th>ProfileName</th>\n",
       "      <th>HelpfulnessNumerator</th>\n",
       "      <th>HelpfulnessDenominator</th>\n",
       "      <th>Score</th>\n",
       "      <th>Time</th>\n",
       "      <th>Summary</th>\n",
       "      <th>Text</th>\n",
       "    </tr>\n",
       "  </thead>\n",
       "  <tbody>\n",
       "    <tr>\n",
       "      <th>0</th>\n",
       "      <td>B001E4KFG0</td>\n",
       "      <td>A3SGXH7AUHU8GW</td>\n",
       "      <td>delmartian</td>\n",
       "      <td>1</td>\n",
       "      <td>1</td>\n",
       "      <td>5</td>\n",
       "      <td>1303862400</td>\n",
       "      <td>Good Quality Dog Food</td>\n",
       "      <td>I have bought several of the Vitality canned d...</td>\n",
       "    </tr>\n",
       "    <tr>\n",
       "      <th>1</th>\n",
       "      <td>B00813GRG4</td>\n",
       "      <td>A1D87F6ZCVE5NK</td>\n",
       "      <td>dll pa</td>\n",
       "      <td>0</td>\n",
       "      <td>0</td>\n",
       "      <td>1</td>\n",
       "      <td>1346976000</td>\n",
       "      <td>Not as Advertised</td>\n",
       "      <td>Product arrived labeled as Jumbo Salted Peanut...</td>\n",
       "    </tr>\n",
       "    <tr>\n",
       "      <th>2</th>\n",
       "      <td>B000LQOCH0</td>\n",
       "      <td>ABXLMWJIXXAIN</td>\n",
       "      <td>Natalia Corres \"Natalia Corres\"</td>\n",
       "      <td>1</td>\n",
       "      <td>1</td>\n",
       "      <td>4</td>\n",
       "      <td>1219017600</td>\n",
       "      <td>\"Delight\" says it all</td>\n",
       "      <td>This is a confection that has been around a fe...</td>\n",
       "    </tr>\n",
       "    <tr>\n",
       "      <th>3</th>\n",
       "      <td>B000UA0QIQ</td>\n",
       "      <td>A395BORC6FGVXV</td>\n",
       "      <td>Karl</td>\n",
       "      <td>3</td>\n",
       "      <td>3</td>\n",
       "      <td>2</td>\n",
       "      <td>1307923200</td>\n",
       "      <td>Cough Medicine</td>\n",
       "      <td>If you are looking for the secret ingredient i...</td>\n",
       "    </tr>\n",
       "    <tr>\n",
       "      <th>4</th>\n",
       "      <td>B006K2ZZ7K</td>\n",
       "      <td>A1UQRSCLF8GW1T</td>\n",
       "      <td>Michael D. Bigham \"M. Wassir\"</td>\n",
       "      <td>0</td>\n",
       "      <td>0</td>\n",
       "      <td>5</td>\n",
       "      <td>1350777600</td>\n",
       "      <td>Great taffy</td>\n",
       "      <td>Great taffy at a great price.  There was a wid...</td>\n",
       "    </tr>\n",
       "  </tbody>\n",
       "</table>\n",
       "</div>"
      ],
      "text/plain": [
       "    ProductId          UserId                      ProfileName  \\\n",
       "0  B001E4KFG0  A3SGXH7AUHU8GW                       delmartian   \n",
       "1  B00813GRG4  A1D87F6ZCVE5NK                           dll pa   \n",
       "2  B000LQOCH0   ABXLMWJIXXAIN  Natalia Corres \"Natalia Corres\"   \n",
       "3  B000UA0QIQ  A395BORC6FGVXV                             Karl   \n",
       "4  B006K2ZZ7K  A1UQRSCLF8GW1T    Michael D. Bigham \"M. Wassir\"   \n",
       "\n",
       "   HelpfulnessNumerator  HelpfulnessDenominator  Score        Time  \\\n",
       "0                     1                       1      5  1303862400   \n",
       "1                     0                       0      1  1346976000   \n",
       "2                     1                       1      4  1219017600   \n",
       "3                     3                       3      2  1307923200   \n",
       "4                     0                       0      5  1350777600   \n",
       "\n",
       "                 Summary                                               Text  \n",
       "0  Good Quality Dog Food  I have bought several of the Vitality canned d...  \n",
       "1      Not as Advertised  Product arrived labeled as Jumbo Salted Peanut...  \n",
       "2  \"Delight\" says it all  This is a confection that has been around a fe...  \n",
       "3         Cough Medicine  If you are looking for the secret ingredient i...  \n",
       "4            Great taffy  Great taffy at a great price.  There was a wid...  "
      ]
     },
     "execution_count": 70,
     "metadata": {},
     "output_type": "execute_result"
    }
   ],
   "source": [
    "dt.head()"
   ]
  },
  {
   "cell_type": "code",
   "execution_count": 71,
   "metadata": {},
   "outputs": [
    {
     "data": {
      "text/html": [
       "<div>\n",
       "<style scoped>\n",
       "    .dataframe tbody tr th:only-of-type {\n",
       "        vertical-align: middle;\n",
       "    }\n",
       "\n",
       "    .dataframe tbody tr th {\n",
       "        vertical-align: top;\n",
       "    }\n",
       "\n",
       "    .dataframe thead th {\n",
       "        text-align: right;\n",
       "    }\n",
       "</style>\n",
       "<table border=\"1\" class=\"dataframe\">\n",
       "  <thead>\n",
       "    <tr style=\"text-align: right;\">\n",
       "      <th></th>\n",
       "      <th>HelpfulnessNumerator</th>\n",
       "      <th>HelpfulnessDenominator</th>\n",
       "      <th>Score</th>\n",
       "      <th>Time</th>\n",
       "    </tr>\n",
       "  </thead>\n",
       "  <tbody>\n",
       "    <tr>\n",
       "      <th>count</th>\n",
       "      <td>568454.000000</td>\n",
       "      <td>568454.00000</td>\n",
       "      <td>568454.000000</td>\n",
       "      <td>5.684540e+05</td>\n",
       "    </tr>\n",
       "    <tr>\n",
       "      <th>mean</th>\n",
       "      <td>1.743817</td>\n",
       "      <td>2.22881</td>\n",
       "      <td>4.183199</td>\n",
       "      <td>1.296257e+09</td>\n",
       "    </tr>\n",
       "    <tr>\n",
       "      <th>std</th>\n",
       "      <td>7.636513</td>\n",
       "      <td>8.28974</td>\n",
       "      <td>1.310436</td>\n",
       "      <td>4.804331e+07</td>\n",
       "    </tr>\n",
       "    <tr>\n",
       "      <th>min</th>\n",
       "      <td>0.000000</td>\n",
       "      <td>0.00000</td>\n",
       "      <td>1.000000</td>\n",
       "      <td>9.393408e+08</td>\n",
       "    </tr>\n",
       "    <tr>\n",
       "      <th>25%</th>\n",
       "      <td>0.000000</td>\n",
       "      <td>0.00000</td>\n",
       "      <td>4.000000</td>\n",
       "      <td>1.271290e+09</td>\n",
       "    </tr>\n",
       "    <tr>\n",
       "      <th>50%</th>\n",
       "      <td>0.000000</td>\n",
       "      <td>1.00000</td>\n",
       "      <td>5.000000</td>\n",
       "      <td>1.311120e+09</td>\n",
       "    </tr>\n",
       "    <tr>\n",
       "      <th>75%</th>\n",
       "      <td>2.000000</td>\n",
       "      <td>2.00000</td>\n",
       "      <td>5.000000</td>\n",
       "      <td>1.332720e+09</td>\n",
       "    </tr>\n",
       "    <tr>\n",
       "      <th>max</th>\n",
       "      <td>866.000000</td>\n",
       "      <td>923.00000</td>\n",
       "      <td>5.000000</td>\n",
       "      <td>1.351210e+09</td>\n",
       "    </tr>\n",
       "  </tbody>\n",
       "</table>\n",
       "</div>"
      ],
      "text/plain": [
       "       HelpfulnessNumerator  HelpfulnessDenominator          Score  \\\n",
       "count         568454.000000            568454.00000  568454.000000   \n",
       "mean               1.743817                 2.22881       4.183199   \n",
       "std                7.636513                 8.28974       1.310436   \n",
       "min                0.000000                 0.00000       1.000000   \n",
       "25%                0.000000                 0.00000       4.000000   \n",
       "50%                0.000000                 1.00000       5.000000   \n",
       "75%                2.000000                 2.00000       5.000000   \n",
       "max              866.000000               923.00000       5.000000   \n",
       "\n",
       "               Time  \n",
       "count  5.684540e+05  \n",
       "mean   1.296257e+09  \n",
       "std    4.804331e+07  \n",
       "min    9.393408e+08  \n",
       "25%    1.271290e+09  \n",
       "50%    1.311120e+09  \n",
       "75%    1.332720e+09  \n",
       "max    1.351210e+09  "
      ]
     },
     "execution_count": 71,
     "metadata": {},
     "output_type": "execute_result"
    }
   ],
   "source": [
    "dt.describe()"
   ]
  },
  {
   "cell_type": "markdown",
   "metadata": {},
   "source": [
    "## Clean up data"
   ]
  },
  {
   "cell_type": "code",
   "execution_count": 72,
   "metadata": {},
   "outputs": [],
   "source": [
    "dt = dt.drop_duplicates(subset=[\"UserId\",\"ProfileName\",\"Time\",\"Text\"], keep='first', inplace=False)\n",
    "dt = dt[dt[\"HelpfulnessNumerator\"] <= dt[\"HelpfulnessDenominator\"]] # remove the numerator greater than denominator"
   ]
  },
  {
   "cell_type": "code",
   "execution_count": 73,
   "metadata": {},
   "outputs": [
    {
     "data": {
      "text/html": [
       "<div>\n",
       "<style scoped>\n",
       "    .dataframe tbody tr th:only-of-type {\n",
       "        vertical-align: middle;\n",
       "    }\n",
       "\n",
       "    .dataframe tbody tr th {\n",
       "        vertical-align: top;\n",
       "    }\n",
       "\n",
       "    .dataframe thead th {\n",
       "        text-align: right;\n",
       "    }\n",
       "</style>\n",
       "<table border=\"1\" class=\"dataframe\">\n",
       "  <thead>\n",
       "    <tr style=\"text-align: right;\">\n",
       "      <th></th>\n",
       "      <th>HelpfulnessNumerator</th>\n",
       "      <th>HelpfulnessDenominator</th>\n",
       "      <th>Score</th>\n",
       "      <th>Time</th>\n",
       "    </tr>\n",
       "  </thead>\n",
       "  <tbody>\n",
       "    <tr>\n",
       "      <th>count</th>\n",
       "      <td>393931.000000</td>\n",
       "      <td>393931.000000</td>\n",
       "      <td>393931.000000</td>\n",
       "      <td>3.939310e+05</td>\n",
       "    </tr>\n",
       "    <tr>\n",
       "      <th>mean</th>\n",
       "      <td>1.734393</td>\n",
       "      <td>2.204805</td>\n",
       "      <td>4.179397</td>\n",
       "      <td>1.296449e+09</td>\n",
       "    </tr>\n",
       "    <tr>\n",
       "      <th>std</th>\n",
       "      <td>6.872280</td>\n",
       "      <td>7.534791</td>\n",
       "      <td>1.311927</td>\n",
       "      <td>4.840344e+07</td>\n",
       "    </tr>\n",
       "    <tr>\n",
       "      <th>min</th>\n",
       "      <td>0.000000</td>\n",
       "      <td>0.000000</td>\n",
       "      <td>1.000000</td>\n",
       "      <td>9.393408e+08</td>\n",
       "    </tr>\n",
       "    <tr>\n",
       "      <th>25%</th>\n",
       "      <td>0.000000</td>\n",
       "      <td>0.000000</td>\n",
       "      <td>4.000000</td>\n",
       "      <td>1.271376e+09</td>\n",
       "    </tr>\n",
       "    <tr>\n",
       "      <th>50%</th>\n",
       "      <td>0.000000</td>\n",
       "      <td>1.000000</td>\n",
       "      <td>5.000000</td>\n",
       "      <td>1.311638e+09</td>\n",
       "    </tr>\n",
       "    <tr>\n",
       "      <th>75%</th>\n",
       "      <td>2.000000</td>\n",
       "      <td>2.000000</td>\n",
       "      <td>5.000000</td>\n",
       "      <td>1.332979e+09</td>\n",
       "    </tr>\n",
       "    <tr>\n",
       "      <th>max</th>\n",
       "      <td>866.000000</td>\n",
       "      <td>923.000000</td>\n",
       "      <td>5.000000</td>\n",
       "      <td>1.351210e+09</td>\n",
       "    </tr>\n",
       "  </tbody>\n",
       "</table>\n",
       "</div>"
      ],
      "text/plain": [
       "       HelpfulnessNumerator  HelpfulnessDenominator          Score  \\\n",
       "count         393931.000000           393931.000000  393931.000000   \n",
       "mean               1.734393                2.204805       4.179397   \n",
       "std                6.872280                7.534791       1.311927   \n",
       "min                0.000000                0.000000       1.000000   \n",
       "25%                0.000000                0.000000       4.000000   \n",
       "50%                0.000000                1.000000       5.000000   \n",
       "75%                2.000000                2.000000       5.000000   \n",
       "max              866.000000              923.000000       5.000000   \n",
       "\n",
       "               Time  \n",
       "count  3.939310e+05  \n",
       "mean   1.296449e+09  \n",
       "std    4.840344e+07  \n",
       "min    9.393408e+08  \n",
       "25%    1.271376e+09  \n",
       "50%    1.311638e+09  \n",
       "75%    1.332979e+09  \n",
       "max    1.351210e+09  "
      ]
     },
     "execution_count": 73,
     "metadata": {},
     "output_type": "execute_result"
    }
   ],
   "source": [
    "dt.describe()"
   ]
  },
  {
   "cell_type": "code",
   "execution_count": 74,
   "metadata": {},
   "outputs": [
    {
     "data": {
      "text/plain": [
       "ProductId                  0\n",
       "UserId                     0\n",
       "ProfileName               11\n",
       "HelpfulnessNumerator       0\n",
       "HelpfulnessDenominator     0\n",
       "Score                      0\n",
       "Time                       0\n",
       "Summary                    3\n",
       "Text                       0\n",
       "dtype: int64"
      ]
     },
     "execution_count": 74,
     "metadata": {},
     "output_type": "execute_result"
    }
   ],
   "source": [
    "dt.isnull().sum()"
   ]
  },
  {
   "cell_type": "markdown",
   "metadata": {},
   "source": [
    "There is a very few number of null values. Let's fill them:"
   ]
  },
  {
   "cell_type": "code",
   "execution_count": 75,
   "metadata": {},
   "outputs": [],
   "source": [
    "dt['ProfileName'].fillna('', inplace=True)\n",
    "dt['Summary'].fillna('', inplace=True)"
   ]
  },
  {
   "cell_type": "code",
   "execution_count": 76,
   "metadata": {
    "scrolled": true
   },
   "outputs": [
    {
     "data": {
      "text/plain": [
       "ProductId                 0\n",
       "UserId                    0\n",
       "ProfileName               0\n",
       "HelpfulnessNumerator      0\n",
       "HelpfulnessDenominator    0\n",
       "Score                     0\n",
       "Time                      0\n",
       "Summary                   0\n",
       "Text                      0\n",
       "dtype: int64"
      ]
     },
     "execution_count": 76,
     "metadata": {},
     "output_type": "execute_result"
    }
   ],
   "source": [
    "dt.isnull().sum()"
   ]
  },
  {
   "cell_type": "markdown",
   "metadata": {},
   "source": [
    "## Tokenize the text "
   ]
  },
  {
   "cell_type": "code",
   "execution_count": 77,
   "metadata": {},
   "outputs": [],
   "source": [
    "product_id = []\n",
    "summary = []\n",
    "reviews = []\n",
    "new_df = pd.DataFrame()\n",
    "for product, group in dt.groupby('ProductId'):\n",
    "    product_id.append(product)\n",
    "    reviews.append(\" \".join(list(group['Text'])))\n",
    "    summary.append(\" \".join(list(map(str,group['Summary']))))\n",
    "    \n",
    "new_df['ProductId'] = product_id\n",
    "new_df['reviews'] = reviews\n",
    "new_df['summary'] = summary"
   ]
  },
  {
   "cell_type": "code",
   "execution_count": 78,
   "metadata": {},
   "outputs": [],
   "source": [
    "def clean_text(text):\n",
    "    stop_words = set(stopwords.words('english')) # obtain the stop words\n",
    "    good_words = [] # save the correct words to consider like tokens\n",
    "    tokenizer = RegexpTokenizer(\"[\\w']+\") # function to recognize the tokens\n",
    "    words = tokenizer.tokenize(text) # tokenize the text \n",
    "    for word in words:\n",
    "        # check if the word is lower and it isn't a stop word or a number\n",
    "        if word.lower() not in stop_words and word.isalpha(): \n",
    "            word = PorterStemmer().stem(word) # use the stemmer function\n",
    "            good_words.append(word.lower()) # insert the good token to lower case\n",
    "        \n",
    "    return good_words"
   ]
  },
  {
   "cell_type": "code",
   "execution_count": 79,
   "metadata": {},
   "outputs": [
    {
     "name": "stdout",
     "output_type": "stream",
     "text": [
      "Wall time: 8min 8s\n"
     ]
    },
    {
     "data": {
      "text/html": [
       "<div>\n",
       "<style scoped>\n",
       "    .dataframe tbody tr th:only-of-type {\n",
       "        vertical-align: middle;\n",
       "    }\n",
       "\n",
       "    .dataframe tbody tr th {\n",
       "        vertical-align: top;\n",
       "    }\n",
       "\n",
       "    .dataframe thead th {\n",
       "        text-align: right;\n",
       "    }\n",
       "</style>\n",
       "<table border=\"1\" class=\"dataframe\">\n",
       "  <thead>\n",
       "    <tr style=\"text-align: right;\">\n",
       "      <th></th>\n",
       "      <th>ProductId</th>\n",
       "      <th>reviews</th>\n",
       "      <th>summary</th>\n",
       "    </tr>\n",
       "  </thead>\n",
       "  <tbody>\n",
       "    <tr>\n",
       "      <th>0</th>\n",
       "      <td>0006641040</td>\n",
       "      <td>[day, person, say, chicken, soup, probabl, go,...</td>\n",
       "      <td>Read it once. Read it twice. Reading Chicken S...</td>\n",
       "    </tr>\n",
       "    <tr>\n",
       "      <th>1</th>\n",
       "      <td>141278509X</td>\n",
       "      <td>[product, archer, farm, best, drink, mix, ever...</td>\n",
       "      <td>The best drink mix</td>\n",
       "    </tr>\n",
       "    <tr>\n",
       "      <th>2</th>\n",
       "      <td>2734888454</td>\n",
       "      <td>[dog, love, chicken, product, china, wont, buy...</td>\n",
       "      <td>made in china Dog Lover Delites</td>\n",
       "    </tr>\n",
       "    <tr>\n",
       "      <th>3</th>\n",
       "      <td>2841233731</td>\n",
       "      <td>[book, easi, read, ingredi, avail, store, unli...</td>\n",
       "      <td>Great recipe book for my babycook</td>\n",
       "    </tr>\n",
       "    <tr>\n",
       "      <th>4</th>\n",
       "      <td>7800648702</td>\n",
       "      <td>[came, huge, tin, much, bigger, expect, cooki,...</td>\n",
       "      <td>Delicious Mildly Sweet Cookie Lots of crispy, ...</td>\n",
       "    </tr>\n",
       "  </tbody>\n",
       "</table>\n",
       "</div>"
      ],
      "text/plain": [
       "    ProductId                                            reviews  \\\n",
       "0  0006641040  [day, person, say, chicken, soup, probabl, go,...   \n",
       "1  141278509X  [product, archer, farm, best, drink, mix, ever...   \n",
       "2  2734888454  [dog, love, chicken, product, china, wont, buy...   \n",
       "3  2841233731  [book, easi, read, ingredi, avail, store, unli...   \n",
       "4  7800648702  [came, huge, tin, much, bigger, expect, cooki,...   \n",
       "\n",
       "                                             summary  \n",
       "0  Read it once. Read it twice. Reading Chicken S...  \n",
       "1                                 The best drink mix  \n",
       "2                    made in china Dog Lover Delites  \n",
       "3                  Great recipe book for my babycook  \n",
       "4  Delicious Mildly Sweet Cookie Lots of crispy, ...  "
      ]
     },
     "execution_count": 79,
     "metadata": {},
     "output_type": "execute_result"
    }
   ],
   "source": [
    "%%time\n",
    "# use the interest column..\n",
    "new_df[\"reviews\"] = [clean_text(x) for x in list(new_df[\"reviews\"])]\n",
    "new_df.head()"
   ]
  },
  {
   "cell_type": "code",
   "execution_count": 80,
   "metadata": {},
   "outputs": [
    {
     "data": {
      "text/html": [
       "<div>\n",
       "<style scoped>\n",
       "    .dataframe tbody tr th:only-of-type {\n",
       "        vertical-align: middle;\n",
       "    }\n",
       "\n",
       "    .dataframe tbody tr th {\n",
       "        vertical-align: top;\n",
       "    }\n",
       "\n",
       "    .dataframe thead th {\n",
       "        text-align: right;\n",
       "    }\n",
       "</style>\n",
       "<table border=\"1\" class=\"dataframe\">\n",
       "  <thead>\n",
       "    <tr style=\"text-align: right;\">\n",
       "      <th></th>\n",
       "      <th>ProductId</th>\n",
       "      <th>reviews</th>\n",
       "      <th>summary</th>\n",
       "    </tr>\n",
       "  </thead>\n",
       "  <tbody>\n",
       "    <tr>\n",
       "      <th>0</th>\n",
       "      <td>0006641040</td>\n",
       "      <td>[day, person, say, chicken, soup, probabl, go,...</td>\n",
       "      <td>Read it once. Read it twice. Reading Chicken S...</td>\n",
       "    </tr>\n",
       "    <tr>\n",
       "      <th>1</th>\n",
       "      <td>141278509X</td>\n",
       "      <td>[product, archer, farm, best, drink, mix, ever...</td>\n",
       "      <td>The best drink mix</td>\n",
       "    </tr>\n",
       "    <tr>\n",
       "      <th>2</th>\n",
       "      <td>2734888454</td>\n",
       "      <td>[dog, love, chicken, product, china, wont, buy...</td>\n",
       "      <td>made in china Dog Lover Delites</td>\n",
       "    </tr>\n",
       "    <tr>\n",
       "      <th>3</th>\n",
       "      <td>2841233731</td>\n",
       "      <td>[book, easi, read, ingredi, avail, store, unli...</td>\n",
       "      <td>Great recipe book for my babycook</td>\n",
       "    </tr>\n",
       "    <tr>\n",
       "      <th>4</th>\n",
       "      <td>7800648702</td>\n",
       "      <td>[came, huge, tin, much, bigger, expect, cooki,...</td>\n",
       "      <td>Delicious Mildly Sweet Cookie Lots of crispy, ...</td>\n",
       "    </tr>\n",
       "  </tbody>\n",
       "</table>\n",
       "</div>"
      ],
      "text/plain": [
       "    ProductId                                            reviews  \\\n",
       "0  0006641040  [day, person, say, chicken, soup, probabl, go,...   \n",
       "1  141278509X  [product, archer, farm, best, drink, mix, ever...   \n",
       "2  2734888454  [dog, love, chicken, product, china, wont, buy...   \n",
       "3  2841233731  [book, easi, read, ingredi, avail, store, unli...   \n",
       "4  7800648702  [came, huge, tin, much, bigger, expect, cooki,...   \n",
       "\n",
       "                                             summary  \n",
       "0  Read it once. Read it twice. Reading Chicken S...  \n",
       "1                                 The best drink mix  \n",
       "2                    made in china Dog Lover Delites  \n",
       "3                  Great recipe book for my babycook  \n",
       "4  Delicious Mildly Sweet Cookie Lots of crispy, ...  "
      ]
     },
     "execution_count": 80,
     "metadata": {},
     "output_type": "execute_result"
    }
   ],
   "source": [
    "new_df.head()"
   ]
  },
  {
   "cell_type": "code",
   "execution_count": 81,
   "metadata": {},
   "outputs": [
    {
     "name": "stdout",
     "output_type": "stream",
     "text": [
      "Wall time: 7.05 s\n"
     ]
    }
   ],
   "source": [
    "%%time\n",
    "\n",
    "tfidf = TfidfVectorizer(preprocessor=lambda x: x, tokenizer=lambda x: x, min_df = 0.007)\n",
    "tfidf_matrix = tfidf.fit_transform(new_df[\"reviews\"])"
   ]
  },
  {
   "cell_type": "code",
   "execution_count": 82,
   "metadata": {},
   "outputs": [
    {
     "name": "stdout",
     "output_type": "stream",
     "text": [
      "Wall time: 0 ns\n"
     ]
    },
    {
     "data": {
      "text/plain": [
       "2145"
      ]
     },
     "execution_count": 82,
     "metadata": {},
     "output_type": "execute_result"
    }
   ],
   "source": [
    "%%time\n",
    "len(tfidf.vocabulary_)"
   ]
  },
  {
   "cell_type": "code",
   "execution_count": 83,
   "metadata": {},
   "outputs": [
    {
     "name": "stdout",
     "output_type": "stream",
     "text": [
      "Wall time: 916 ms\n"
     ]
    }
   ],
   "source": [
    "%%time\n",
    "dn = pd.DataFrame.sparse.from_spmatrix(tfidf_matrix)"
   ]
  },
  {
   "cell_type": "code",
   "execution_count": 84,
   "metadata": {},
   "outputs": [
    {
     "data": {
      "text/html": [
       "<div>\n",
       "<style scoped>\n",
       "    .dataframe tbody tr th:only-of-type {\n",
       "        vertical-align: middle;\n",
       "    }\n",
       "\n",
       "    .dataframe tbody tr th {\n",
       "        vertical-align: top;\n",
       "    }\n",
       "\n",
       "    .dataframe thead th {\n",
       "        text-align: right;\n",
       "    }\n",
       "</style>\n",
       "<table border=\"1\" class=\"dataframe\">\n",
       "  <thead>\n",
       "    <tr style=\"text-align: right;\">\n",
       "      <th></th>\n",
       "      <th>0</th>\n",
       "      <th>1</th>\n",
       "      <th>2</th>\n",
       "      <th>3</th>\n",
       "      <th>4</th>\n",
       "      <th>5</th>\n",
       "      <th>6</th>\n",
       "      <th>7</th>\n",
       "      <th>8</th>\n",
       "      <th>9</th>\n",
       "      <th>...</th>\n",
       "      <th>2135</th>\n",
       "      <th>2136</th>\n",
       "      <th>2137</th>\n",
       "      <th>2138</th>\n",
       "      <th>2139</th>\n",
       "      <th>2140</th>\n",
       "      <th>2141</th>\n",
       "      <th>2142</th>\n",
       "      <th>2143</th>\n",
       "      <th>2144</th>\n",
       "    </tr>\n",
       "  </thead>\n",
       "  <tbody>\n",
       "    <tr>\n",
       "      <th>0</th>\n",
       "      <td>0.0</td>\n",
       "      <td>0.013143</td>\n",
       "      <td>0.006529</td>\n",
       "      <td>0.000000</td>\n",
       "      <td>0.0</td>\n",
       "      <td>0.0</td>\n",
       "      <td>0.0</td>\n",
       "      <td>0.0</td>\n",
       "      <td>0.0</td>\n",
       "      <td>0.0</td>\n",
       "      <td>...</td>\n",
       "      <td>0.0</td>\n",
       "      <td>0.0</td>\n",
       "      <td>0.01042</td>\n",
       "      <td>0.0</td>\n",
       "      <td>0.0</td>\n",
       "      <td>0.0</td>\n",
       "      <td>0.0</td>\n",
       "      <td>0.000000</td>\n",
       "      <td>0.0</td>\n",
       "      <td>0.0</td>\n",
       "    </tr>\n",
       "    <tr>\n",
       "      <th>1</th>\n",
       "      <td>0.0</td>\n",
       "      <td>0.000000</td>\n",
       "      <td>0.000000</td>\n",
       "      <td>0.000000</td>\n",
       "      <td>0.0</td>\n",
       "      <td>0.0</td>\n",
       "      <td>0.0</td>\n",
       "      <td>0.0</td>\n",
       "      <td>0.0</td>\n",
       "      <td>0.0</td>\n",
       "      <td>...</td>\n",
       "      <td>0.0</td>\n",
       "      <td>0.0</td>\n",
       "      <td>0.00000</td>\n",
       "      <td>0.0</td>\n",
       "      <td>0.0</td>\n",
       "      <td>0.0</td>\n",
       "      <td>0.0</td>\n",
       "      <td>0.000000</td>\n",
       "      <td>0.0</td>\n",
       "      <td>0.0</td>\n",
       "    </tr>\n",
       "    <tr>\n",
       "      <th>2</th>\n",
       "      <td>0.0</td>\n",
       "      <td>0.000000</td>\n",
       "      <td>0.000000</td>\n",
       "      <td>0.000000</td>\n",
       "      <td>0.0</td>\n",
       "      <td>0.0</td>\n",
       "      <td>0.0</td>\n",
       "      <td>0.0</td>\n",
       "      <td>0.0</td>\n",
       "      <td>0.0</td>\n",
       "      <td>...</td>\n",
       "      <td>0.0</td>\n",
       "      <td>0.0</td>\n",
       "      <td>0.00000</td>\n",
       "      <td>0.0</td>\n",
       "      <td>0.0</td>\n",
       "      <td>0.0</td>\n",
       "      <td>0.0</td>\n",
       "      <td>0.000000</td>\n",
       "      <td>0.0</td>\n",
       "      <td>0.0</td>\n",
       "    </tr>\n",
       "    <tr>\n",
       "      <th>3</th>\n",
       "      <td>0.0</td>\n",
       "      <td>0.000000</td>\n",
       "      <td>0.000000</td>\n",
       "      <td>0.000000</td>\n",
       "      <td>0.0</td>\n",
       "      <td>0.0</td>\n",
       "      <td>0.0</td>\n",
       "      <td>0.0</td>\n",
       "      <td>0.0</td>\n",
       "      <td>0.0</td>\n",
       "      <td>...</td>\n",
       "      <td>0.0</td>\n",
       "      <td>0.0</td>\n",
       "      <td>0.00000</td>\n",
       "      <td>0.0</td>\n",
       "      <td>0.0</td>\n",
       "      <td>0.0</td>\n",
       "      <td>0.0</td>\n",
       "      <td>0.191621</td>\n",
       "      <td>0.0</td>\n",
       "      <td>0.0</td>\n",
       "    </tr>\n",
       "    <tr>\n",
       "      <th>4</th>\n",
       "      <td>0.0</td>\n",
       "      <td>0.000000</td>\n",
       "      <td>0.000000</td>\n",
       "      <td>0.000000</td>\n",
       "      <td>0.0</td>\n",
       "      <td>0.0</td>\n",
       "      <td>0.0</td>\n",
       "      <td>0.0</td>\n",
       "      <td>0.0</td>\n",
       "      <td>0.0</td>\n",
       "      <td>...</td>\n",
       "      <td>0.0</td>\n",
       "      <td>0.0</td>\n",
       "      <td>0.00000</td>\n",
       "      <td>0.0</td>\n",
       "      <td>0.0</td>\n",
       "      <td>0.0</td>\n",
       "      <td>0.0</td>\n",
       "      <td>0.000000</td>\n",
       "      <td>0.0</td>\n",
       "      <td>0.0</td>\n",
       "    </tr>\n",
       "    <tr>\n",
       "      <th>...</th>\n",
       "      <td>...</td>\n",
       "      <td>...</td>\n",
       "      <td>...</td>\n",
       "      <td>...</td>\n",
       "      <td>...</td>\n",
       "      <td>...</td>\n",
       "      <td>...</td>\n",
       "      <td>...</td>\n",
       "      <td>...</td>\n",
       "      <td>...</td>\n",
       "      <td>...</td>\n",
       "      <td>...</td>\n",
       "      <td>...</td>\n",
       "      <td>...</td>\n",
       "      <td>...</td>\n",
       "      <td>...</td>\n",
       "      <td>...</td>\n",
       "      <td>...</td>\n",
       "      <td>...</td>\n",
       "      <td>...</td>\n",
       "      <td>...</td>\n",
       "    </tr>\n",
       "    <tr>\n",
       "      <th>67619</th>\n",
       "      <td>0.0</td>\n",
       "      <td>0.000000</td>\n",
       "      <td>0.000000</td>\n",
       "      <td>0.000000</td>\n",
       "      <td>0.0</td>\n",
       "      <td>0.0</td>\n",
       "      <td>0.0</td>\n",
       "      <td>0.0</td>\n",
       "      <td>0.0</td>\n",
       "      <td>0.0</td>\n",
       "      <td>...</td>\n",
       "      <td>0.0</td>\n",
       "      <td>0.0</td>\n",
       "      <td>0.00000</td>\n",
       "      <td>0.0</td>\n",
       "      <td>0.0</td>\n",
       "      <td>0.0</td>\n",
       "      <td>0.0</td>\n",
       "      <td>0.000000</td>\n",
       "      <td>0.0</td>\n",
       "      <td>0.0</td>\n",
       "    </tr>\n",
       "    <tr>\n",
       "      <th>67620</th>\n",
       "      <td>0.0</td>\n",
       "      <td>0.000000</td>\n",
       "      <td>0.000000</td>\n",
       "      <td>0.000000</td>\n",
       "      <td>0.0</td>\n",
       "      <td>0.0</td>\n",
       "      <td>0.0</td>\n",
       "      <td>0.0</td>\n",
       "      <td>0.0</td>\n",
       "      <td>0.0</td>\n",
       "      <td>...</td>\n",
       "      <td>0.0</td>\n",
       "      <td>0.0</td>\n",
       "      <td>0.00000</td>\n",
       "      <td>0.0</td>\n",
       "      <td>0.0</td>\n",
       "      <td>0.0</td>\n",
       "      <td>0.0</td>\n",
       "      <td>0.000000</td>\n",
       "      <td>0.0</td>\n",
       "      <td>0.0</td>\n",
       "    </tr>\n",
       "    <tr>\n",
       "      <th>67621</th>\n",
       "      <td>0.0</td>\n",
       "      <td>0.000000</td>\n",
       "      <td>0.000000</td>\n",
       "      <td>0.310321</td>\n",
       "      <td>0.0</td>\n",
       "      <td>0.0</td>\n",
       "      <td>0.0</td>\n",
       "      <td>0.0</td>\n",
       "      <td>0.0</td>\n",
       "      <td>0.0</td>\n",
       "      <td>...</td>\n",
       "      <td>0.0</td>\n",
       "      <td>0.0</td>\n",
       "      <td>0.00000</td>\n",
       "      <td>0.0</td>\n",
       "      <td>0.0</td>\n",
       "      <td>0.0</td>\n",
       "      <td>0.0</td>\n",
       "      <td>0.000000</td>\n",
       "      <td>0.0</td>\n",
       "      <td>0.0</td>\n",
       "    </tr>\n",
       "    <tr>\n",
       "      <th>67622</th>\n",
       "      <td>0.0</td>\n",
       "      <td>0.000000</td>\n",
       "      <td>0.000000</td>\n",
       "      <td>0.000000</td>\n",
       "      <td>0.0</td>\n",
       "      <td>0.0</td>\n",
       "      <td>0.0</td>\n",
       "      <td>0.0</td>\n",
       "      <td>0.0</td>\n",
       "      <td>0.0</td>\n",
       "      <td>...</td>\n",
       "      <td>0.0</td>\n",
       "      <td>0.0</td>\n",
       "      <td>0.00000</td>\n",
       "      <td>0.0</td>\n",
       "      <td>0.0</td>\n",
       "      <td>0.0</td>\n",
       "      <td>0.0</td>\n",
       "      <td>0.000000</td>\n",
       "      <td>0.0</td>\n",
       "      <td>0.0</td>\n",
       "    </tr>\n",
       "    <tr>\n",
       "      <th>67623</th>\n",
       "      <td>0.0</td>\n",
       "      <td>0.000000</td>\n",
       "      <td>0.000000</td>\n",
       "      <td>0.000000</td>\n",
       "      <td>0.0</td>\n",
       "      <td>0.0</td>\n",
       "      <td>0.0</td>\n",
       "      <td>0.0</td>\n",
       "      <td>0.0</td>\n",
       "      <td>0.0</td>\n",
       "      <td>...</td>\n",
       "      <td>0.0</td>\n",
       "      <td>0.0</td>\n",
       "      <td>0.00000</td>\n",
       "      <td>0.0</td>\n",
       "      <td>0.0</td>\n",
       "      <td>0.0</td>\n",
       "      <td>0.0</td>\n",
       "      <td>0.000000</td>\n",
       "      <td>0.0</td>\n",
       "      <td>0.0</td>\n",
       "    </tr>\n",
       "  </tbody>\n",
       "</table>\n",
       "<p>67624 rows × 2145 columns</p>\n",
       "</div>"
      ],
      "text/plain": [
       "       0         1         2         3     4     5     6     7     8     9     \\\n",
       "0       0.0  0.013143  0.006529  0.000000   0.0   0.0   0.0   0.0   0.0   0.0   \n",
       "1       0.0  0.000000  0.000000  0.000000   0.0   0.0   0.0   0.0   0.0   0.0   \n",
       "2       0.0  0.000000  0.000000  0.000000   0.0   0.0   0.0   0.0   0.0   0.0   \n",
       "3       0.0  0.000000  0.000000  0.000000   0.0   0.0   0.0   0.0   0.0   0.0   \n",
       "4       0.0  0.000000  0.000000  0.000000   0.0   0.0   0.0   0.0   0.0   0.0   \n",
       "...     ...       ...       ...       ...   ...   ...   ...   ...   ...   ...   \n",
       "67619   0.0  0.000000  0.000000  0.000000   0.0   0.0   0.0   0.0   0.0   0.0   \n",
       "67620   0.0  0.000000  0.000000  0.000000   0.0   0.0   0.0   0.0   0.0   0.0   \n",
       "67621   0.0  0.000000  0.000000  0.310321   0.0   0.0   0.0   0.0   0.0   0.0   \n",
       "67622   0.0  0.000000  0.000000  0.000000   0.0   0.0   0.0   0.0   0.0   0.0   \n",
       "67623   0.0  0.000000  0.000000  0.000000   0.0   0.0   0.0   0.0   0.0   0.0   \n",
       "\n",
       "       ...  2135  2136     2137  2138  2139  2140  2141      2142  2143  2144  \n",
       "0      ...   0.0   0.0  0.01042   0.0   0.0   0.0   0.0  0.000000   0.0   0.0  \n",
       "1      ...   0.0   0.0  0.00000   0.0   0.0   0.0   0.0  0.000000   0.0   0.0  \n",
       "2      ...   0.0   0.0  0.00000   0.0   0.0   0.0   0.0  0.000000   0.0   0.0  \n",
       "3      ...   0.0   0.0  0.00000   0.0   0.0   0.0   0.0  0.191621   0.0   0.0  \n",
       "4      ...   0.0   0.0  0.00000   0.0   0.0   0.0   0.0  0.000000   0.0   0.0  \n",
       "...    ...   ...   ...      ...   ...   ...   ...   ...       ...   ...   ...  \n",
       "67619  ...   0.0   0.0  0.00000   0.0   0.0   0.0   0.0  0.000000   0.0   0.0  \n",
       "67620  ...   0.0   0.0  0.00000   0.0   0.0   0.0   0.0  0.000000   0.0   0.0  \n",
       "67621  ...   0.0   0.0  0.00000   0.0   0.0   0.0   0.0  0.000000   0.0   0.0  \n",
       "67622  ...   0.0   0.0  0.00000   0.0   0.0   0.0   0.0  0.000000   0.0   0.0  \n",
       "67623  ...   0.0   0.0  0.00000   0.0   0.0   0.0   0.0  0.000000   0.0   0.0  \n",
       "\n",
       "[67624 rows x 2145 columns]"
      ]
     },
     "execution_count": 84,
     "metadata": {},
     "output_type": "execute_result"
    }
   ],
   "source": [
    "dn"
   ]
  },
  {
   "cell_type": "code",
   "execution_count": 85,
   "metadata": {
    "scrolled": true
   },
   "outputs": [
    {
     "name": "stdout",
     "output_type": "stream",
     "text": [
      "[0.01225097 0.02416933 0.017116   0.01319098 0.01121082 0.0099161\n",
      " 0.00845543 0.00751402 0.00657727 0.00607779 0.00569094 0.00540802\n",
      " 0.00502597 0.00475972 0.00462845 0.00448364 0.004369   0.00416698\n",
      " 0.00407483 0.00390722 0.00381671 0.00379346 0.003725   0.00365696\n",
      " 0.00358626 0.00352749 0.00344236 0.00336808 0.00328392 0.0032619\n",
      " 0.00315086 0.00307065 0.00301155 0.00300747 0.00293777 0.00287081\n",
      " 0.00280864 0.00273847 0.00271331 0.00264312 0.00262618 0.00260007\n",
      " 0.00253811 0.00252501 0.00249779 0.00247378 0.00245269 0.00242529\n",
      " 0.00237948 0.00235756 0.00233748 0.0023113  0.00228742 0.00224037\n",
      " 0.00223552 0.00219468 0.00217568 0.00214275 0.00211017 0.00209436\n",
      " 0.00208848 0.00206813 0.00204638 0.00202562 0.00201054 0.00199971\n",
      " 0.00198382 0.00194974 0.00194219 0.00190902 0.00189122 0.00187066\n",
      " 0.00185068 0.00183447 0.00182952 0.00182238 0.00180169 0.00178822\n",
      " 0.00178473 0.00177322 0.00177092 0.00175288 0.00172411 0.00170504\n",
      " 0.00170301 0.00170062 0.00168302 0.00167109 0.00166248 0.00164548\n",
      " 0.00163741 0.00162591 0.0016189  0.00159889 0.00159499 0.00159201\n",
      " 0.00157438 0.00156813 0.00156513 0.00155673 0.00155246 0.00154288\n",
      " 0.00153163 0.00152207 0.00150992 0.00149046 0.00147997 0.00147686\n",
      " 0.00147607 0.00145985 0.00145315 0.00144879 0.00144332 0.0014315\n",
      " 0.00141426 0.00141362 0.00140671 0.00139277 0.00138742 0.00136907\n",
      " 0.00136471 0.00135849 0.00134511 0.0013416  0.00133657 0.00132856\n",
      " 0.001328   0.00132145 0.00131394 0.0013063  0.00129813 0.00129065\n",
      " 0.00128652 0.00127533 0.00127016 0.00126636 0.0012609  0.00125152\n",
      " 0.00124981 0.00123832 0.00123474 0.00122812 0.00122225 0.00122014\n",
      " 0.00121447 0.00121125 0.001194   0.00118742 0.00118597 0.00117774\n",
      " 0.00117267 0.00116953 0.00115959 0.00115693 0.00114778 0.0011434\n",
      " 0.00113954 0.00113241 0.00112766 0.00112171 0.00111767 0.00111367\n",
      " 0.00111224 0.00110472 0.00110132 0.00109581 0.00109414 0.00108867\n",
      " 0.00108411 0.00107966 0.00107711 0.00107265 0.00106939 0.00106576\n",
      " 0.00106389 0.00106021 0.00105707 0.00105138 0.00104886 0.00104561\n",
      " 0.00104456 0.00104201 0.00103937 0.00103612 0.00102926 0.00102139\n",
      " 0.00102066 0.00101902 0.00101641 0.0010147  0.00101018 0.00100572\n",
      " 0.00100543 0.00100359 0.00099995 0.00099567 0.00099369 0.0009872\n",
      " 0.00098502 0.00098388 0.00098102 0.00097748 0.00097105 0.00096925\n",
      " 0.00096775 0.00096394 0.00096054 0.00095868 0.00095421 0.00095181\n",
      " 0.00094787 0.00094715 0.00094585 0.00094158 0.00093707 0.0009342\n",
      " 0.00093367 0.00092858 0.0009251  0.00092247 0.00092127 0.00091914\n",
      " 0.00091295 0.00091158 0.00091046 0.00090648 0.00090398 0.00090312\n",
      " 0.00090043 0.00089642 0.00089342 0.00089189 0.00089079 0.00088863\n",
      " 0.00088695 0.00088277 0.00088036 0.00087803 0.00087646 0.00087461\n",
      " 0.00087214 0.00086917 0.000868   0.00086519 0.00086317 0.00085994\n",
      " 0.00085897 0.0008561  0.00085371 0.00085048 0.00084802 0.00084499\n",
      " 0.00084305 0.00084157 0.0008409  0.00083704 0.00083505 0.0008339\n",
      " 0.00083043 0.00082822 0.0008264  0.00082162 0.00081986 0.00081686\n",
      " 0.00081631 0.00081301 0.0008113  0.0008078  0.00080664 0.00080581\n",
      " 0.00080321 0.00079966 0.00079808 0.00079719 0.00079612 0.00079376\n",
      " 0.00079163 0.00079056 0.00079017 0.00078612 0.00078288 0.00078192\n",
      " 0.00078123 0.00077906 0.00077807 0.00077642 0.00077179 0.00077038\n",
      " 0.00076919 0.000768   0.00076728 0.00076478 0.00076331 0.00076133\n",
      " 0.00076037 0.00075821 0.00075736 0.00075592 0.00075543 0.00075108\n",
      " 0.0007484  0.0007477  0.00074634 0.00074401 0.00074273 0.00073911\n",
      " 0.00073713 0.00073581 0.00073493 0.00073421 0.00073268 0.00072978\n",
      " 0.00072917 0.00072766 0.00072593 0.00072392 0.00072074 0.00071986\n",
      " 0.00071858 0.00071748 0.00071427 0.00071311 0.00071227 0.00070986\n",
      " 0.00070889 0.00070727 0.00070654 0.00070528 0.00070102 0.00070022\n",
      " 0.00069783 0.00069628 0.00069443 0.00069394 0.00069226 0.00069096\n",
      " 0.00068931 0.00068806 0.0006864  0.00068512 0.00068227 0.00068015\n",
      " 0.00067877 0.00067719 0.0006756  0.0006742  0.00067149 0.00067106\n",
      " 0.00066937 0.00066874 0.00066641 0.00066496 0.00066389 0.00066256\n",
      " 0.00066089 0.000659   0.00065757 0.00065573 0.00065468 0.00065292\n",
      " 0.00064947 0.00064777 0.00064661 0.00064468 0.00064374 0.00064307\n",
      " 0.00064246 0.00064109 0.00063804 0.00063666 0.00063624 0.00063535\n",
      " 0.00063358 0.00063269 0.0006318  0.00062804 0.00062666 0.00062636\n",
      " 0.00062465 0.00062394 0.00062117 0.00061972 0.00061889 0.00061715\n",
      " 0.00061547 0.00061375 0.00061296 0.00061222 0.00060916 0.00060789\n",
      " 0.00060634 0.00060443 0.00060293 0.00060092 0.00059912 0.00059847\n",
      " 0.00059787 0.00059613 0.00059512 0.00059417 0.00059195 0.00059033\n",
      " 0.00058775 0.00058589 0.00058522 0.00058329 0.00058207 0.00058182\n",
      " 0.00057977 0.00057886 0.00057703 0.00057538 0.00057488 0.00057436\n",
      " 0.00057267 0.00057092 0.00056894 0.00056822 0.0005671  0.00056508\n",
      " 0.00056212 0.00056187 0.0005598  0.00055738 0.00055716 0.00055621\n",
      " 0.00055423 0.00055291 0.00055169 0.00055141 0.00054889 0.00054774\n",
      " 0.00054689 0.00054492 0.00054305 0.00054291 0.0005401  0.00053958\n",
      " 0.00053794 0.0005374  0.00053715 0.00053505 0.00053185 0.0005306\n",
      " 0.00053014 0.00052892 0.00052725 0.00052633 0.00052545 0.00052316\n",
      " 0.00052178 0.0005204  0.00051856 0.00051749 0.00051616 0.00051559\n",
      " 0.00051335 0.00051292 0.00051172 0.00051119 0.0005089  0.0005074\n",
      " 0.0005051  0.0005034  0.00050322 0.00050177 0.00050155 0.00049917\n",
      " 0.00049736 0.000495   0.0004938  0.00049324 0.00049152 0.00049014\n",
      " 0.00048919 0.0004885  0.00048759 0.0004866  0.00048421 0.00048339\n",
      " 0.00048015 0.00047878 0.00047614 0.00047567 0.00047384 0.00047342\n",
      " 0.00047099 0.00047013 0.00046801 0.00046659 0.00046456 0.0004628\n",
      " 0.00046192 0.00046116 0.00046113 0.00045786 0.00045683 0.0004544\n",
      " 0.000452   0.00045017]\n",
      "67.07830631003591\n"
     ]
    }
   ],
   "source": [
    "svd = TruncatedSVD(n_components=500)\n",
    "new_dn = svd.fit_transform(dn)\n",
    "print(svd.explained_variance_ratio_)\n",
    "print(svd.explained_variance_ratio_.sum()*100)"
   ]
  },
  {
   "cell_type": "code",
   "execution_count": 94,
   "metadata": {},
   "outputs": [
    {
     "data": {
      "text/plain": [
       "array([[ 0.257116  , -0.06749298, -0.05110632, ..., -0.0013427 ,\n",
       "         0.01738826,  0.01103389],\n",
       "       [ 0.17181801, -0.01651118, -0.01033533, ..., -0.01643824,\n",
       "         0.03058823, -0.01373597],\n",
       "       [ 0.15338822, -0.07084431, -0.09246994, ..., -0.00244751,\n",
       "        -0.03443211,  0.01565376],\n",
       "       ...,\n",
       "       [ 0.18807876, -0.01159982,  0.14484697, ...,  0.0030966 ,\n",
       "         0.01750949,  0.00545587],\n",
       "       [ 0.17486906, -0.06080003, -0.04668805, ..., -0.0093387 ,\n",
       "         0.00644224,  0.00713878],\n",
       "       [ 0.12254261, -0.03368386, -0.01112219, ..., -0.01432363,\n",
       "        -0.04880088, -0.02214174]])"
      ]
     },
     "execution_count": 94,
     "metadata": {},
     "output_type": "execute_result"
    }
   ],
   "source": [
    "new_dn"
   ]
  },
  {
   "cell_type": "markdown",
   "metadata": {},
   "source": [
    "## Elbow Method"
   ]
  },
  {
   "cell_type": "markdown",
   "metadata": {},
   "source": [
    "This can be useful for the second bonus point"
   ]
  },
  {
   "cell_type": "code",
   "execution_count": 111,
   "metadata": {},
   "outputs": [
    {
     "name": "stderr",
     "output_type": "stream",
     "text": [
      "100%|████████████████████████████████████████████████████████████████████████████████████| 5/5 [07:59<00:00, 95.94s/it]\n"
     ]
    }
   ],
   "source": [
    "#elbow = {}\n",
    "for k in tqdm(range(35,45,2)):\n",
    "    elbow_model = KMeans(n_clusters=k)\n",
    "    elbow_model.fit_predict(slice)\n",
    "    elbow[k] = elbow_model.inertia_ "
   ]
  },
  {
   "cell_type": "code",
   "execution_count": 137,
   "metadata": {},
   "outputs": [
    {
     "data": {
      "image/png": "[encoded data removed]",
      "text/plain": [
       "<Figure size 1440x1440 with 1 Axes>"
      ]
     },
     "metadata": {
      "needs_background": "light"
     },
     "output_type": "display_data"
    }
   ],
   "source": [
    "plt.figure(figsize=(20,20))\n",
    "plt.plot(sorted(list(elbow.keys())), sorted(list(elbow.values()), reverse= True), marker='o')\n",
    "\n",
    "for x,y in zip(sorted(list(elbow.keys())),sorted(list(elbow.values()), reverse= True)):\n",
    "\n",
    "    label = f\"({x},{y})\"\n",
    "\n",
    "    plt.annotate(xy = (x,y), text = (x,y))"
   ]
  },
  {
   "cell_type": "code",
   "execution_count": 127,
   "metadata": {},
   "outputs": [
    {
     "data": {
      "text/plain": [
       "{3: 43592.407025041175,\n",
       " 4: 42667.02693009778,\n",
       " 5: 41961.88142644917,\n",
       " 6: 41408.98662172706,\n",
       " 7: 41063.48687976498,\n",
       " 8: 40614.8816548069,\n",
       " 9: 40406.4779865142,\n",
       " 10: 40098.18130000417,\n",
       " 11: 39830.41379360182,\n",
       " 12: 39571.73633499489,\n",
       " 13: 39480.99734314309,\n",
       " 14: 39116.154391854674,\n",
       " 15: 39056.747920624344,\n",
       " 16: 38750.050499745186,\n",
       " 17: 38630.62546680274,\n",
       " 18: 38494.781651252066,\n",
       " 19: 38253.71713126116,\n",
       " 21: 37958.41245167732,\n",
       " 31: 36637.612571414735,\n",
       " 41: 35379.073263664824,\n",
       " 51: 34598.13030673172,\n",
       " 61: 33781.53670591419,\n",
       " 71: 33251.63831622059,\n",
       " 81: 32682.619515396582,\n",
       " 91: 32178.89089458367,\n",
       " 101: 31778.461299019717,\n",
       " 111: 31345.07543056768,\n",
       " 35: 36113.847739476456,\n",
       " 37: 35747.48006427774,\n",
       " 39: 35594.1998462105,\n",
       " 43: 35379.5778505661}"
      ]
     },
     "execution_count": 127,
     "metadata": {},
     "output_type": "execute_result"
    }
   ],
   "source": [
    "elbows\n"
   ]
  },
  {
   "cell_type": "markdown",
   "metadata": {},
   "source": [
    "## K-Means algorithm"
   ]
  },
  {
   "cell_type": "code",
   "execution_count": 111,
   "metadata": {
    "scrolled": true
   },
   "outputs": [
    {
     "data": {
      "text/plain": [
       "0"
      ]
     },
     "execution_count": 111,
     "metadata": {},
     "output_type": "execute_result"
    }
   ],
   "source": [
    "def calc_distance(X1, X2):\n",
    "    return np.sqrt(sum((X1 - X2)**2))\n",
    "l=np.array([1,3,4])\n",
    "m = np.array([[1,1,1],[1,8,9]])\n",
    "\n",
    "j = np.argmin([np.array([calc_distance(l, m_j) for j,m_j in enumerate(m)])])\n",
    "cluster[j].append(x)"
   ]
  },
  {
   "cell_type": "code",
   "execution_count": 263,
   "metadata": {},
   "outputs": [],
   "source": [
    "from collections import defaultdict\n",
    "\n",
    "def calc_distance(X1, X2):\n",
    "    return np.sqrt(sum((X1 - X2)**2))\n",
    "\n",
    "def initialization(k):\n",
    "    return np.random.uniform(0, 1, [k])\n",
    "\n",
    "def Assign_Cluster(new_dn, k):    \n",
    "    centroids = initialization(k)\n",
    "    clusters = defaultdict(list)\n",
    "    for i, x in enumerate(new_dn):\n",
    "        centroid = np.argmin([np.array([calc_distance(x, mu_j) for j,mu_j in enumerate(centroids)])])\n",
    "        if centroid:\n",
    "            clusters[centroid].append(x)\n",
    "    \n",
    "    return clusters\n",
    "\n",
    "def update_centroid(centroids,clusters,k):\n",
    "    upd_c = np.array([np.mean(clusters[i]) if i in clusters.keys() else centroids[i] for i in range(k)])\n",
    "    return upd_c"
   ]
  },
  {
   "cell_type": "code",
   "execution_count": 246,
   "metadata": {},
   "outputs": [
    {
     "name": "stdout",
     "output_type": "stream",
     "text": [
      "Wall time: 26.9 s\n"
     ]
    }
   ],
   "source": [
    "%%time\n",
    "c = Assign_Cluster(new_dn, 5)"
   ]
  },
  {
   "cell_type": "code",
   "execution_count": 266,
   "metadata": {},
   "outputs": [
    {
     "name": "stdout",
     "output_type": "stream",
     "text": [
      "Wall time: 313 ms\n"
     ]
    },
    {
     "data": {
      "text/plain": [
       "array([2.19489724e-01, 3.87282474e-01, 2.08077635e-01, 8.30284909e-01,\n",
       "       4.65089062e-04])"
      ]
     },
     "execution_count": 266,
     "metadata": {},
     "output_type": "execute_result"
    }
   ],
   "source": [
    "%%time\n",
    "update_centroid(initialization(5), c, 5)"
   ]
  },
  {
   "cell_type": "code",
   "execution_count": 227,
   "metadata": {},
   "outputs": [
    {
     "data": {
      "text/plain": [
       "dict_keys([0])"
      ]
     },
     "execution_count": 227,
     "metadata": {},
     "output_type": "execute_result"
    }
   ],
   "source": [
    "c.keys()"
   ]
  },
  {
   "cell_type": "code",
   "execution_count": 199,
   "metadata": {},
   "outputs": [
    {
     "ename": "TypeError",
     "evalue": "KMeans() got an unexpected keyword argument 'n_clusters'",
     "output_type": "error",
     "traceback": [
      "\u001b[1;31m---------------------------------------------------------------------------\u001b[0m",
      "\u001b[1;31mTypeError\u001b[0m                                 Traceback (most recent call last)",
      "\u001b[1;32m<ipython-input-199-9a3843e2a22f>\u001b[0m in \u001b[0;36m<module>\u001b[1;34m\u001b[0m\n\u001b[1;32m----> 1\u001b[1;33m \u001b[0mmodel\u001b[0m \u001b[1;33m=\u001b[0m \u001b[0mKMeans\u001b[0m\u001b[1;33m(\u001b[0m\u001b[0mn_clusters\u001b[0m \u001b[1;33m=\u001b[0m \u001b[1;36m100\u001b[0m\u001b[1;33m)\u001b[0m\u001b[1;33m\u001b[0m\u001b[1;33m\u001b[0m\u001b[0m\n\u001b[0m",
      "\u001b[1;31mTypeError\u001b[0m: KMeans() got an unexpected keyword argument 'n_clusters'"
     ]
    }
   ],
   "source": [
    "model = KMeans(n_clusters = 100)"
   ]
  },
  {
   "cell_type": "code",
   "execution_count": 95,
   "metadata": {},
   "outputs": [],
   "source": [
    "slice = new_dn[:] # only column 3 to 6"
   ]
  },
  {
   "cell_type": "code",
   "execution_count": 59,
   "metadata": {},
   "outputs": [
    {
     "data": {
      "text/plain": [
       "KMeans(n_clusters=100)"
      ]
     },
     "execution_count": 59,
     "metadata": {},
     "output_type": "execute_result"
    }
   ],
   "source": [
    "model.fit(slice)"
   ]
  },
  {
   "cell_type": "code",
   "execution_count": 60,
   "metadata": {},
   "outputs": [],
   "source": [
    "cluster = model.predict(slice)"
   ]
  },
  {
   "cell_type": "code",
   "execution_count": 61,
   "metadata": {},
   "outputs": [
    {
     "data": {
      "text/plain": [
       "array([78, 25, 62, ..., 16, 11, 25])"
      ]
     },
     "execution_count": 61,
     "metadata": {},
     "output_type": "execute_result"
    }
   ],
   "source": [
    "cluster"
   ]
  },
  {
   "cell_type": "code",
   "execution_count": 70,
   "metadata": {},
   "outputs": [],
   "source": [
    "new_dataframe = pd.DataFrame()\n",
    "new_dataframe['ProductId'] = new_df['ProductId']\n",
    "new_dataframe['Cluster'] = cluster"
   ]
  },
  {
   "cell_type": "code",
   "execution_count": 66,
   "metadata": {},
   "outputs": [
    {
     "data": {
      "text/html": [
       "<div>\n",
       "<style scoped>\n",
       "    .dataframe tbody tr th:only-of-type {\n",
       "        vertical-align: middle;\n",
       "    }\n",
       "\n",
       "    .dataframe tbody tr th {\n",
       "        vertical-align: top;\n",
       "    }\n",
       "\n",
       "    .dataframe thead th {\n",
       "        text-align: right;\n",
       "    }\n",
       "</style>\n",
       "<table border=\"1\" class=\"dataframe\">\n",
       "  <thead>\n",
       "    <tr style=\"text-align: right;\">\n",
       "      <th></th>\n",
       "      <th>ProductId</th>\n",
       "      <th>UserId</th>\n",
       "      <th>ProfileName</th>\n",
       "      <th>HelpfulnessNumerator</th>\n",
       "      <th>HelpfulnessDenominator</th>\n",
       "      <th>Score</th>\n",
       "      <th>Time</th>\n",
       "      <th>Summary</th>\n",
       "      <th>Text</th>\n",
       "    </tr>\n",
       "  </thead>\n",
       "  <tbody>\n",
       "    <tr>\n",
       "      <th>1477</th>\n",
       "      <td>B009UOFU20</td>\n",
       "      <td>AJVB004EB0MVK</td>\n",
       "      <td>D. Christofferson</td>\n",
       "      <td>0</td>\n",
       "      <td>0</td>\n",
       "      <td>1</td>\n",
       "      <td>1345852800</td>\n",
       "      <td>weak coffee not good for a premium product and...</td>\n",
       "      <td>This coffee supposedly is premium, it tastes w...</td>\n",
       "    </tr>\n",
       "    <tr>\n",
       "      <th>191720</th>\n",
       "      <td>B009UOFTUI</td>\n",
       "      <td>AJVB004EB0MVK</td>\n",
       "      <td>D. Christofferson</td>\n",
       "      <td>0</td>\n",
       "      <td>0</td>\n",
       "      <td>1</td>\n",
       "      <td>1345852800</td>\n",
       "      <td>weak coffee not good for a premium product and...</td>\n",
       "      <td>This coffee supposedly is premium, it tastes w...</td>\n",
       "    </tr>\n",
       "  </tbody>\n",
       "</table>\n",
       "</div>"
      ],
      "text/plain": [
       "         ProductId         UserId        ProfileName  HelpfulnessNumerator  \\\n",
       "1477    B009UOFU20  AJVB004EB0MVK  D. Christofferson                     0   \n",
       "191720  B009UOFTUI  AJVB004EB0MVK  D. Christofferson                     0   \n",
       "\n",
       "        HelpfulnessDenominator  Score        Time  \\\n",
       "1477                         0      1  1345852800   \n",
       "191720                       0      1  1345852800   \n",
       "\n",
       "                                                  Summary  \\\n",
       "1477    weak coffee not good for a premium product and...   \n",
       "191720  weak coffee not good for a premium product and...   \n",
       "\n",
       "                                                     Text  \n",
       "1477    This coffee supposedly is premium, it tastes w...  \n",
       "191720  This coffee supposedly is premium, it tastes w...  "
      ]
     },
     "execution_count": 66,
     "metadata": {},
     "output_type": "execute_result"
    }
   ],
   "source": [
    "dt.loc[(dt['ProductId'] == 'B009UOFU20') | (dt['ProductId'] == 'B009UOFTUI')]"
   ]
  },
  {
   "cell_type": "code",
   "execution_count": 93,
   "metadata": {},
   "outputs": [
    {
     "data": {
      "text/html": [
       "<div>\n",
       "<style scoped>\n",
       "    .dataframe tbody tr th:only-of-type {\n",
       "        vertical-align: middle;\n",
       "    }\n",
       "\n",
       "    .dataframe tbody tr th {\n",
       "        vertical-align: top;\n",
       "    }\n",
       "\n",
       "    .dataframe thead th {\n",
       "        text-align: right;\n",
       "    }\n",
       "</style>\n",
       "<table border=\"1\" class=\"dataframe\">\n",
       "  <thead>\n",
       "    <tr style=\"text-align: right;\">\n",
       "      <th></th>\n",
       "      <th>ProductId</th>\n",
       "      <th>reviews</th>\n",
       "      <th>summary</th>\n",
       "    </tr>\n",
       "  </thead>\n",
       "  <tbody>\n",
       "    <tr>\n",
       "      <th>170</th>\n",
       "      <td>B00008GKAV</td>\n",
       "      <td>[food, compet, garbag, main, ingredi, corn, un...</td>\n",
       "      <td>One of the worst dog foods Unhealthy for your dog</td>\n",
       "    </tr>\n",
       "    <tr>\n",
       "      <th>182</th>\n",
       "      <td>B00008O36H</td>\n",
       "      <td>[two, golden, retriev, bene, weight, control, ...</td>\n",
       "      <td>Great for our dogs! unless you want to pick do...</td>\n",
       "    </tr>\n",
       "    <tr>\n",
       "      <th>329</th>\n",
       "      <td>B0000CET6I</td>\n",
       "      <td>[bought, dog, food, bag, show, pictur, veggi, ...</td>\n",
       "      <td>False Advertising, Terrible Dog Food!! My dog'...</td>\n",
       "    </tr>\n",
       "    <tr>\n",
       "      <th>4823</th>\n",
       "      <td>B0006345MA</td>\n",
       "      <td>[use, brand, year, get, via, amazon, sub, save...</td>\n",
       "      <td>Dog loves this food False Advertising, Terribl...</td>\n",
       "    </tr>\n",
       "    <tr>\n",
       "      <th>4867</th>\n",
       "      <td>B000634D0O</td>\n",
       "      <td>[three, dog, love, cat, steal, littl, piec, ch...</td>\n",
       "      <td>cats even love it! False Advertising, Terrible...</td>\n",
       "    </tr>\n",
       "    <tr>\n",
       "      <th>4868</th>\n",
       "      <td>B000634D0Y</td>\n",
       "      <td>[bought, dog, food, bag, show, pictur, veggi, ...</td>\n",
       "      <td>False Advertising, Terrible Dog Food!!</td>\n",
       "    </tr>\n",
       "    <tr>\n",
       "      <th>6235</th>\n",
       "      <td>B0009JRUT6</td>\n",
       "      <td>[bought, dog, food, bag, show, pictur, veggi, ...</td>\n",
       "      <td>False Advertising, Terrible Dog Food!! Sensiti...</td>\n",
       "    </tr>\n",
       "    <tr>\n",
       "      <th>6238</th>\n",
       "      <td>B0009JUQ0Q</td>\n",
       "      <td>[bought, dog, food, bag, show, pictur, veggi, ...</td>\n",
       "      <td>False Advertising, Terrible Dog Food!!</td>\n",
       "    </tr>\n",
       "    <tr>\n",
       "      <th>7030</th>\n",
       "      <td>B000BOS3E0</td>\n",
       "      <td>[bought, dog, food, bag, show, pictur, veggi, ...</td>\n",
       "      <td>False Advertising, Terrible Dog Food!!</td>\n",
       "    </tr>\n",
       "    <tr>\n",
       "      <th>13744</th>\n",
       "      <td>B000JOQ3VM</td>\n",
       "      <td>[bought, dog, food, bag, show, pictur, veggi, ...</td>\n",
       "      <td>False Advertising, Terrible Dog Food!!</td>\n",
       "    </tr>\n",
       "    <tr>\n",
       "      <th>18372</th>\n",
       "      <td>B000QSKB7S</td>\n",
       "      <td>[bought, cat, food, wonder, low, price, enjoy,...</td>\n",
       "      <td>Absolutely Awful Cat Food A fine product</td>\n",
       "    </tr>\n",
       "    <tr>\n",
       "      <th>18375</th>\n",
       "      <td>B000QSLUEG</td>\n",
       "      <td>[bought, dog, food, bag, show, pictur, veggi, ...</td>\n",
       "      <td>False Advertising, Terrible Dog Food!! My Pupp...</td>\n",
       "    </tr>\n",
       "    <tr>\n",
       "      <th>18376</th>\n",
       "      <td>B000QSLUF0</td>\n",
       "      <td>[bought, dog, food, bag, show, pictur, veggi, ...</td>\n",
       "      <td>False Advertising, Terrible Dog Food!! WOW its...</td>\n",
       "    </tr>\n",
       "    <tr>\n",
       "      <th>18383</th>\n",
       "      <td>B000QSM3WO</td>\n",
       "      <td>[bought, cat, food, wonder, low, price, enjoy,...</td>\n",
       "      <td>Absolutely Awful Cat Food</td>\n",
       "    </tr>\n",
       "    <tr>\n",
       "      <th>18397</th>\n",
       "      <td>B000QSONJA</td>\n",
       "      <td>[bought, dog, food, bag, show, pictur, veggi, ...</td>\n",
       "      <td>False Advertising, Terrible Dog Food!!</td>\n",
       "    </tr>\n",
       "    <tr>\n",
       "      <th>20760</th>\n",
       "      <td>B000W5N16S</td>\n",
       "      <td>[commerci, grade, dog, food, one, higher, qual...</td>\n",
       "      <td>fine for the first week until you find the bes...</td>\n",
       "    </tr>\n",
       "    <tr>\n",
       "      <th>20886</th>\n",
       "      <td>B000WFEODW</td>\n",
       "      <td>[love, food, happi, avail, amazon, would, love...</td>\n",
       "      <td>Only food my Goldens have ever had Wrong ingre...</td>\n",
       "    </tr>\n",
       "    <tr>\n",
       "      <th>21172</th>\n",
       "      <td>B000WTAL8U</td>\n",
       "      <td>[feed, dog, bene, sinc, time, restock, decid, ...</td>\n",
       "      <td>One of the Worst Dog Foods Available False Adv...</td>\n",
       "    </tr>\n",
       "    <tr>\n",
       "      <th>26795</th>\n",
       "      <td>B001BOTD4S</td>\n",
       "      <td>[bought, dog, food, bag, show, pictur, veggi, ...</td>\n",
       "      <td>False Advertising, Terrible Dog Food!!</td>\n",
       "    </tr>\n",
       "    <tr>\n",
       "      <th>27096</th>\n",
       "      <td>B001CSRNEK</td>\n",
       "      <td>[bought, dog, food, bag, show, pictur, veggi, ...</td>\n",
       "      <td>False Advertising, Terrible Dog Food!!</td>\n",
       "    </tr>\n",
       "    <tr>\n",
       "      <th>27099</th>\n",
       "      <td>B001CT7YKM</td>\n",
       "      <td>[bought, dog, food, bag, show, pictur, veggi, ...</td>\n",
       "      <td>False Advertising, Terrible Dog Food!!</td>\n",
       "    </tr>\n",
       "    <tr>\n",
       "      <th>36061</th>\n",
       "      <td>B001SFYW96</td>\n",
       "      <td>[three, dog, great, dane, italian, gray, hound...</td>\n",
       "      <td>We (our dogs) love this! False Advertising, Te...</td>\n",
       "    </tr>\n",
       "    <tr>\n",
       "      <th>36062</th>\n",
       "      <td>B001SG0FI2</td>\n",
       "      <td>[bought, dog, food, bag, show, pictur, veggi, ...</td>\n",
       "      <td>false Advertising, Terrible Dog Food!!</td>\n",
       "    </tr>\n",
       "    <tr>\n",
       "      <th>36080</th>\n",
       "      <td>B001SIU13O</td>\n",
       "      <td>[look, first, three, ingredi, follow, product,...</td>\n",
       "      <td>$36 for 21 lbs of bad dog food? You can do a l...</td>\n",
       "    </tr>\n",
       "    <tr>\n",
       "      <th>36087</th>\n",
       "      <td>B001SJ1I58</td>\n",
       "      <td>[look, first, three, ingredi, follow, product,...</td>\n",
       "      <td>$36 for 21 lbs of bad dog food? You can do a l...</td>\n",
       "    </tr>\n",
       "    <tr>\n",
       "      <th>36641</th>\n",
       "      <td>B001VJ1EW2</td>\n",
       "      <td>[bought, dog, food, bag, show, pictur, veggi, ...</td>\n",
       "      <td>False Advertising, Terrible Dog Food!!</td>\n",
       "    </tr>\n",
       "    <tr>\n",
       "      <th>36651</th>\n",
       "      <td>B001VJ3HAY</td>\n",
       "      <td>[bought, dog, food, bag, show, pictur, veggi, ...</td>\n",
       "      <td>False Advertising, Terrible Dog Food!! Have us...</td>\n",
       "    </tr>\n",
       "    <tr>\n",
       "      <th>36667</th>\n",
       "      <td>B001VJ58IS</td>\n",
       "      <td>[think, probabl, good, product, right, dog, un...</td>\n",
       "      <td>garyk False Advertising, Terrible Dog Food!!</td>\n",
       "    </tr>\n",
       "    <tr>\n",
       "      <th>39210</th>\n",
       "      <td>B002ANDYAS</td>\n",
       "      <td>[found, new, pet, store, encino, ca, eat, toni...</td>\n",
       "      <td>Nutritious for my Pregnant Doggie :}</td>\n",
       "    </tr>\n",
       "    <tr>\n",
       "      <th>42242</th>\n",
       "      <td>B002QT1U9S</td>\n",
       "      <td>[dog, like, use, brand, year, pretti, good, pr...</td>\n",
       "      <td>Dog likes it. Made of CORN!</td>\n",
       "    </tr>\n",
       "    <tr>\n",
       "      <th>43282</th>\n",
       "      <td>B002VC0JAQ</td>\n",
       "      <td>[bought, cat, food, wonder, low, price, enjoy,...</td>\n",
       "      <td>Absolutely Awful Cat Food</td>\n",
       "    </tr>\n",
       "    <tr>\n",
       "      <th>44676</th>\n",
       "      <td>B0032XNEM8</td>\n",
       "      <td>[see, someon, copi, past, neg, review, multipl...</td>\n",
       "      <td>Has been great for my dog. A Big Ripoff!</td>\n",
       "    </tr>\n",
       "    <tr>\n",
       "      <th>49067</th>\n",
       "      <td>B003PMQMK2</td>\n",
       "      <td>[maltes, terrier, sibl, happili, crunch, acqui...</td>\n",
       "      <td>Speaking for my dog, these are essential to ha...</td>\n",
       "    </tr>\n",
       "    <tr>\n",
       "      <th>56946</th>\n",
       "      <td>B004FVTQJQ</td>\n",
       "      <td>[bought, dog, food, bag, show, pictur, veggi, ...</td>\n",
       "      <td>False Advertising, Terrible Dog Food!! Not Hea...</td>\n",
       "    </tr>\n",
       "    <tr>\n",
       "      <th>57782</th>\n",
       "      <td>B004IN4LXC</td>\n",
       "      <td>[bought, dog, food, bag, show, pictur, veggi, ...</td>\n",
       "      <td>False Advertising, Terrible Dog Food!! Your do...</td>\n",
       "    </tr>\n",
       "    <tr>\n",
       "      <th>59734</th>\n",
       "      <td>B004Q5R396</td>\n",
       "      <td>[bought, thing, recommend, pet, store, rep, do...</td>\n",
       "      <td>A Big Ripoff!</td>\n",
       "    </tr>\n",
       "    <tr>\n",
       "      <th>60451</th>\n",
       "      <td>B004T33F2O</td>\n",
       "      <td>[bought, cat, food, wonder, low, price, enjoy,...</td>\n",
       "      <td>Absolutely Awful Cat Food</td>\n",
       "    </tr>\n",
       "    <tr>\n",
       "      <th>61087</th>\n",
       "      <td>B004VLF8PG</td>\n",
       "      <td>[bought, dog, food, bag, show, pictur, veggi, ...</td>\n",
       "      <td>False Advertising, Terrible Dog Food!! My litt...</td>\n",
       "    </tr>\n",
       "    <tr>\n",
       "      <th>65797</th>\n",
       "      <td>B005J8U6P2</td>\n",
       "      <td>[bought, dog, food, bag, show, pictur, veggi, ...</td>\n",
       "      <td>False Advertising, Terrible Dog Food!!</td>\n",
       "    </tr>\n",
       "    <tr>\n",
       "      <th>66800</th>\n",
       "      <td>B005RZP2EW</td>\n",
       "      <td>[bought, dog, food, bag, show, pictur, veggi, ...</td>\n",
       "      <td>False Advertising, Terrible Dog Food!!</td>\n",
       "    </tr>\n",
       "    <tr>\n",
       "      <th>66861</th>\n",
       "      <td>B005SLOFTI</td>\n",
       "      <td>[bought, cat, food, wonder, low, price, enjoy,...</td>\n",
       "      <td>Absolutely Awful Cat Food</td>\n",
       "    </tr>\n",
       "  </tbody>\n",
       "</table>\n",
       "</div>"
      ],
      "text/plain": [
       "        ProductId                                            reviews  \\\n",
       "170    B00008GKAV  [food, compet, garbag, main, ingredi, corn, un...   \n",
       "182    B00008O36H  [two, golden, retriev, bene, weight, control, ...   \n",
       "329    B0000CET6I  [bought, dog, food, bag, show, pictur, veggi, ...   \n",
       "4823   B0006345MA  [use, brand, year, get, via, amazon, sub, save...   \n",
       "4867   B000634D0O  [three, dog, love, cat, steal, littl, piec, ch...   \n",
       "4868   B000634D0Y  [bought, dog, food, bag, show, pictur, veggi, ...   \n",
       "6235   B0009JRUT6  [bought, dog, food, bag, show, pictur, veggi, ...   \n",
       "6238   B0009JUQ0Q  [bought, dog, food, bag, show, pictur, veggi, ...   \n",
       "7030   B000BOS3E0  [bought, dog, food, bag, show, pictur, veggi, ...   \n",
       "13744  B000JOQ3VM  [bought, dog, food, bag, show, pictur, veggi, ...   \n",
       "18372  B000QSKB7S  [bought, cat, food, wonder, low, price, enjoy,...   \n",
       "18375  B000QSLUEG  [bought, dog, food, bag, show, pictur, veggi, ...   \n",
       "18376  B000QSLUF0  [bought, dog, food, bag, show, pictur, veggi, ...   \n",
       "18383  B000QSM3WO  [bought, cat, food, wonder, low, price, enjoy,...   \n",
       "18397  B000QSONJA  [bought, dog, food, bag, show, pictur, veggi, ...   \n",
       "20760  B000W5N16S  [commerci, grade, dog, food, one, higher, qual...   \n",
       "20886  B000WFEODW  [love, food, happi, avail, amazon, would, love...   \n",
       "21172  B000WTAL8U  [feed, dog, bene, sinc, time, restock, decid, ...   \n",
       "26795  B001BOTD4S  [bought, dog, food, bag, show, pictur, veggi, ...   \n",
       "27096  B001CSRNEK  [bought, dog, food, bag, show, pictur, veggi, ...   \n",
       "27099  B001CT7YKM  [bought, dog, food, bag, show, pictur, veggi, ...   \n",
       "36061  B001SFYW96  [three, dog, great, dane, italian, gray, hound...   \n",
       "36062  B001SG0FI2  [bought, dog, food, bag, show, pictur, veggi, ...   \n",
       "36080  B001SIU13O  [look, first, three, ingredi, follow, product,...   \n",
       "36087  B001SJ1I58  [look, first, three, ingredi, follow, product,...   \n",
       "36641  B001VJ1EW2  [bought, dog, food, bag, show, pictur, veggi, ...   \n",
       "36651  B001VJ3HAY  [bought, dog, food, bag, show, pictur, veggi, ...   \n",
       "36667  B001VJ58IS  [think, probabl, good, product, right, dog, un...   \n",
       "39210  B002ANDYAS  [found, new, pet, store, encino, ca, eat, toni...   \n",
       "42242  B002QT1U9S  [dog, like, use, brand, year, pretti, good, pr...   \n",
       "43282  B002VC0JAQ  [bought, cat, food, wonder, low, price, enjoy,...   \n",
       "44676  B0032XNEM8  [see, someon, copi, past, neg, review, multipl...   \n",
       "49067  B003PMQMK2  [maltes, terrier, sibl, happili, crunch, acqui...   \n",
       "56946  B004FVTQJQ  [bought, dog, food, bag, show, pictur, veggi, ...   \n",
       "57782  B004IN4LXC  [bought, dog, food, bag, show, pictur, veggi, ...   \n",
       "59734  B004Q5R396  [bought, thing, recommend, pet, store, rep, do...   \n",
       "60451  B004T33F2O  [bought, cat, food, wonder, low, price, enjoy,...   \n",
       "61087  B004VLF8PG  [bought, dog, food, bag, show, pictur, veggi, ...   \n",
       "65797  B005J8U6P2  [bought, dog, food, bag, show, pictur, veggi, ...   \n",
       "66800  B005RZP2EW  [bought, dog, food, bag, show, pictur, veggi, ...   \n",
       "66861  B005SLOFTI  [bought, cat, food, wonder, low, price, enjoy,...   \n",
       "\n",
       "                                                 summary  \n",
       "170    One of the worst dog foods Unhealthy for your dog  \n",
       "182    Great for our dogs! unless you want to pick do...  \n",
       "329    False Advertising, Terrible Dog Food!! My dog'...  \n",
       "4823   Dog loves this food False Advertising, Terribl...  \n",
       "4867   cats even love it! False Advertising, Terrible...  \n",
       "4868              False Advertising, Terrible Dog Food!!  \n",
       "6235   False Advertising, Terrible Dog Food!! Sensiti...  \n",
       "6238              False Advertising, Terrible Dog Food!!  \n",
       "7030              False Advertising, Terrible Dog Food!!  \n",
       "13744             False Advertising, Terrible Dog Food!!  \n",
       "18372           Absolutely Awful Cat Food A fine product  \n",
       "18375  False Advertising, Terrible Dog Food!! My Pupp...  \n",
       "18376  False Advertising, Terrible Dog Food!! WOW its...  \n",
       "18383                          Absolutely Awful Cat Food  \n",
       "18397             False Advertising, Terrible Dog Food!!  \n",
       "20760  fine for the first week until you find the bes...  \n",
       "20886  Only food my Goldens have ever had Wrong ingre...  \n",
       "21172  One of the Worst Dog Foods Available False Adv...  \n",
       "26795             False Advertising, Terrible Dog Food!!  \n",
       "27096             False Advertising, Terrible Dog Food!!  \n",
       "27099             False Advertising, Terrible Dog Food!!  \n",
       "36061  We (our dogs) love this! False Advertising, Te...  \n",
       "36062             false Advertising, Terrible Dog Food!!  \n",
       "36080  $36 for 21 lbs of bad dog food? You can do a l...  \n",
       "36087  $36 for 21 lbs of bad dog food? You can do a l...  \n",
       "36641             False Advertising, Terrible Dog Food!!  \n",
       "36651  False Advertising, Terrible Dog Food!! Have us...  \n",
       "36667       garyk False Advertising, Terrible Dog Food!!  \n",
       "39210               Nutritious for my Pregnant Doggie :}  \n",
       "42242                        Dog likes it. Made of CORN!  \n",
       "43282                          Absolutely Awful Cat Food  \n",
       "44676           Has been great for my dog. A Big Ripoff!  \n",
       "49067  Speaking for my dog, these are essential to ha...  \n",
       "56946  False Advertising, Terrible Dog Food!! Not Hea...  \n",
       "57782  False Advertising, Terrible Dog Food!! Your do...  \n",
       "59734                                      A Big Ripoff!  \n",
       "60451                          Absolutely Awful Cat Food  \n",
       "61087  False Advertising, Terrible Dog Food!! My litt...  \n",
       "65797             False Advertising, Terrible Dog Food!!  \n",
       "66800             False Advertising, Terrible Dog Food!!  \n",
       "66861                          Absolutely Awful Cat Food  "
      ]
     },
     "execution_count": 93,
     "metadata": {},
     "output_type": "execute_result"
    }
   ],
   "source": [
    "new_dataframe.groupby('Cluster').count().sort_values(by='ProductId')\n",
    "lista = new_dataframe.loc[new_dataframe['Cluster'] == 52]\n",
    "lista2 = lista['ProductId']\n",
    "new_df.loc[new_df['ProductId'].isin(lista2)]"
   ]
  },
  {
   "cell_type": "code",
   "execution_count": 33,
   "metadata": {},
   "outputs": [
    {
     "ename": "IndexError",
     "evalue": "only integers, slices (`:`), ellipsis (`...`), numpy.newaxis (`None`) and integer or boolean arrays are valid indices",
     "output_type": "error",
     "traceback": [
      "\u001b[1;31m---------------------------------------------------------------------------\u001b[0m",
      "\u001b[1;31mIndexError\u001b[0m                                Traceback (most recent call last)",
      "\u001b[1;32m<ipython-input-33-bb389654c6f4>\u001b[0m in \u001b[0;36m<module>\u001b[1;34m\u001b[0m\n\u001b[1;32m----> 1\u001b[1;33m \u001b[0mslice\u001b[0m\u001b[1;33m[\u001b[0m\u001b[1;34m'cluster'\u001b[0m\u001b[1;33m]\u001b[0m \u001b[1;33m=\u001b[0m \u001b[0mcluster\u001b[0m\u001b[1;33m\u001b[0m\u001b[1;33m\u001b[0m\u001b[0m\n\u001b[0m",
      "\u001b[1;31mIndexError\u001b[0m: only integers, slices (`:`), ellipsis (`...`), numpy.newaxis (`None`) and integer or boolean arrays are valid indices"
     ]
    }
   ],
   "source": [
    "slice['cluster'] = cluster"
   ]
  },
  {
   "cell_type": "markdown",
   "metadata": {},
   "source": [
    "Let's plot the results"
   ]
  },
  {
   "cell_type": "code",
   "execution_count": 70,
   "metadata": {},
   "outputs": [],
   "source": [
    "from matplotlib import pyplot as plt"
   ]
  },
  {
   "cell_type": "code",
   "execution_count": 71,
   "metadata": {},
   "outputs": [
    {
     "data": {
      "image/png": "[encoded data removed]",
      "text/plain": [
       "<Figure size 432x288 with 1 Axes>"
      ]
     },
     "metadata": {
      "needs_background": "light"
     },
     "output_type": "display_data"
    }
   ],
   "source": [
    "fig = plt.figure()\n",
    "for cluster in range(0, 10):\n",
    "    plt.scatter(slice[slice.cluster == cluster].Score, slice[slice.cluster == cluster].HelpfulnessNumerator)\n",
    "plt.show()"
   ]
  },
  {
   "cell_type": "code",
   "execution_count": 72,
   "metadata": {},
   "outputs": [
    {
     "data": {
      "image/png": "[encoded data removed]",
      "text/plain": [
       "<Figure size 432x288 with 1 Axes>"
      ]
     },
     "metadata": {
      "needs_background": "light"
     },
     "output_type": "display_data"
    }
   ],
   "source": [
    "model = KMeans(verbose=False)\n",
    "slice = dataset.iloc[:,3:6]\n",
    "model.fit(slice)\n",
    "cluster_values = model.predict(slice)\n",
    "dataset['cluster'] = cluster_values\n",
    "fig = plt.figure()\n",
    "for cluster in range(0,10):\n",
    "    plt.scatter(dataset[dataset.cluster == cluster].Score, dataset[dataset.cluster == cluster].HelpfulnessDenominator)\n",
    "plt.show()"
   ]
  },
  {
   "cell_type": "code",
   "execution_count": 73,
   "metadata": {},
   "outputs": [
    {
     "data": {
      "image/png": "[encoded data removed]",
      "text/plain": [
       "<Figure size 432x288 with 1 Axes>"
      ]
     },
     "metadata": {
      "needs_background": "light"
     },
     "output_type": "display_data"
    }
   ],
   "source": [
    "fig = plt.figure()\n",
    "for cluster in range(0,10):\n",
    "    plt.scatter(dataset[dataset.cluster == cluster].HelpfulnessNumerator, dataset[dataset.cluster == cluster].HelpfulnessDenominator)\n",
    "plt.show()"
   ]
  },
  {
   "cell_type": "code",
   "execution_count": 74,
   "metadata": {},
   "outputs": [],
   "source": [
    "from tqdm import tqdm"
   ]
  },
  {
   "cell_type": "code",
   "execution_count": 75,
   "metadata": {},
   "outputs": [],
   "source": [
    "slice = dataset.iloc[:,3:6]"
   ]
  },
  {
   "cell_type": "code",
   "execution_count": 76,
   "metadata": {},
   "outputs": [
    {
     "name": "stderr",
     "output_type": "stream",
     "text": [
      "100%|██████████| 17/17 [01:45<00:00,  6.18s/it]\n"
     ]
    }
   ],
   "source": [
    "elbow = {}\n",
    "for k in tqdm(range(3,20)):\n",
    "    elbow_model = KMeans(n_clusters=k)\n",
    "    elbow_model.fit_predict(slice)\n",
    "    elbow[k] = elbow_model.inertia_ "
   ]
  },
  {
   "cell_type": "code",
   "execution_count": 77,
   "metadata": {},
   "outputs": [
    {
     "data": {
      "text/plain": [
       "[<matplotlib.lines.Line2D at 0x7f7858476a00>]"
      ]
     },
     "execution_count": 77,
     "metadata": {},
     "output_type": "execute_result"
    },
    {
     "data": {
      "image/png": "[encoded data removed]",
      "text/plain": [
       "<Figure size 432x288 with 1 Axes>"
      ]
     },
     "metadata": {
      "needs_background": "light"
     },
     "output_type": "display_data"
    }
   ],
   "source": [
    "plt.plot(list(elbow.keys()), list(elbow.values()))"
   ]
  },
  {
   "cell_type": "code",
   "execution_count": 78,
   "metadata": {},
   "outputs": [],
   "source": [
    "products_per_cluster = {}\n",
    "for cluster in range(0,6):\n",
    "    products_per_cluster[cluster] = len(dataset[dataset.cluster == cluster].ProductId.unique())"
   ]
  },
  {
   "cell_type": "code",
   "execution_count": 79,
   "metadata": {},
   "outputs": [
    {
     "data": {
      "text/plain": [
       "{0: 8737, 1: 70219, 2: 36, 3: 807, 4: 75, 5: 26199}"
      ]
     },
     "execution_count": 79,
     "metadata": {},
     "output_type": "execute_result"
    }
   ],
   "source": [
    "products_per_cluster"
   ]
  },
  {
   "cell_type": "code",
   "execution_count": 80,
   "metadata": {},
   "outputs": [],
   "source": [
    "users_per_cluster = {}\n",
    "for cluster in range(0,6):\n",
    "    users_per_cluster[cluster] = len(dataset[dataset.cluster == cluster].UserId.unique())"
   ]
  },
  {
   "cell_type": "code",
   "execution_count": 81,
   "metadata": {},
   "outputs": [
    {
     "data": {
      "text/plain": [
       "{0: 12433, 1: 209663, 2: 20, 3: 729, 4: 49, 5: 53979}"
      ]
     },
     "execution_count": 81,
     "metadata": {},
     "output_type": "execute_result"
    }
   ],
   "source": [
    "users_per_cluster"
   ]
  },
  {
   "cell_type": "code",
   "execution_count": 82,
   "metadata": {},
   "outputs": [],
   "source": [
    "row_per_cluster = {}\n",
    "for cluster in range(0,6):\n",
    "    row_per_cluster[cluster] = len(dataset[dataset.cluster == cluster])"
   ]
  },
  {
   "cell_type": "code",
   "execution_count": 83,
   "metadata": {},
   "outputs": [
    {
     "data": {
      "text/plain": [
       "{0: 19460, 1: 451122, 2: 48, 3: 1236, 4: 86, 5: 91768}"
      ]
     },
     "execution_count": 83,
     "metadata": {},
     "output_type": "execute_result"
    }
   ],
   "source": [
    "row_per_cluster"
   ]
  },
  {
   "cell_type": "code",
   "execution_count": null,
   "metadata": {},
   "outputs": [],
   "source": []
  },
  {
   "cell_type": "code",
   "execution_count": null,
   "metadata": {},
   "outputs": [],
   "source": []
  }
 ],
 "metadata": {
  "kernelspec": {
   "display_name": "Python 3",
   "language": "python",
   "name": "python3"
  },
  "language_info": {
   "codemirror_mode": {
    "name": "ipython",
    "version": 3
   },
   "file_extension": ".py",
   "mimetype": "text/x-python",
   "name": "python",
   "nbconvert_exporter": "python",
   "pygments_lexer": "ipython3",
   "version": "3.8.3"
  }
 },
 "nbformat": 4,
 "nbformat_minor": 4
}
