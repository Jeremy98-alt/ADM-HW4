{
 "cells": [
  {
   "cell_type": "markdown",
   "metadata": {},
   "source": [
    "### 3. Algorithmic question"
   ]
  },
  {
   "cell_type": "markdown",
   "metadata": {},
   "source": [
    "For this exercise we were asked to prove that we can sort an array A, containing n integer numbers, in time O(n + r), where r = max[a] - min[a].\\\n",
    "(both min[a] and max[a] are given)"
   ]
  },
  {
   "cell_type": "markdown",
   "metadata": {},
   "source": [
    "The sorting algorithm that accomplish this is called **Counting Sort**.\n",
    "\n",
    "This algorithm works by iterating through the input, counting the number of times each item occurs, and using those counts to compute an item's index in the final, sorted array.\n",
    "\n",
    "A simple implementation is shown below:"
   ]
  },
  {
   "cell_type": "code",
   "execution_count": 9,
   "metadata": {},
   "outputs": [
    {
     "name": "stdout",
     "output_type": "stream",
     "text": [
      "A = [1, 5, 3, 7, 6, 8, 0, 9, 5, 3], min[A] = 0, max[A] = 9\n",
      "\n",
      "A_sorted = [0, 1, 3, 3, 5, 5, 6, 7, 8, 9]\n"
     ]
    }
   ],
   "source": [
    "import random\n",
    "\n",
    "# generate a random array\n",
    "my_array = [random.randint(0, 10) for i in range(10)]\n",
    "\n",
    "# compute the max and min values\n",
    "max_val = max(my_array)\n",
    "min_val = min (my_array)\n",
    "\n",
    "print('A = {0}, min[A] = {1}, max[A] = {2}\\n'.format(my_array, min_val, max_val))\n",
    "\n",
    "\n",
    "def counting_sort(my_array, max_val, min_val):\n",
    "\n",
    "    max_min_range = max_val - min_val\n",
    "\n",
    "    # initialize two empty arrays\n",
    "    count = [0] * (max_min_range + 1) # O(max_min_range)\n",
    "    output = [0] * len(my_array)      # O(n)\n",
    "    \n",
    "    # count the occurence of each different integer\n",
    "    for i in range(len(my_array)):    # O(n)\n",
    "        count[my_array[i] - min_val] += 1\n",
    "    \n",
    "    # iterate over the count array and cumulate the no. of occurences\n",
    "    for i in range(1, len(count)):    # O(max_min_range)\n",
    "         count[i] += count[i-1]\n",
    "\n",
    "    # for each array element, get from the count array the sorted index\n",
    "    for i in range (len(my_array)):   # O(n)\n",
    "        output[count[my_array[i] - min_val]-1] = my_array[i]\n",
    "        #update the count array\n",
    "        count[my_array[i] - min_val] -= 1\n",
    "\n",
    "    return output\n",
    "    \n",
    "sorted_array = counting_sort(my_array, max_val, min_val)\n",
    "print('A_sorted = {0}'.format(sorted_array))"
   ]
  },
  {
   "cell_type": "code",
   "execution_count": null,
   "metadata": {},
   "outputs": [],
   "source": []
  }
 ],
 "metadata": {
  "kernelspec": {
   "display_name": "Python 3",
   "language": "python",
   "name": "python3"
  },
  "language_info": {
   "codemirror_mode": {
    "name": "ipython",
    "version": 3
   },
   "file_extension": ".py",
   "mimetype": "text/x-python",
   "name": "python",
   "nbconvert_exporter": "python",
   "pygments_lexer": "ipython3",
   "version": "3.9.0"
  }
 },
 "nbformat": 4,
 "nbformat_minor": 4
}
